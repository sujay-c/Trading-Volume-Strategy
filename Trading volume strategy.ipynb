{
 "cells": [
  {
   "cell_type": "code",
   "execution_count": 1,
   "metadata": {
    "colab": {
     "base_uri": "https://localhost:8080/",
     "height": 84
    },
    "executionInfo": {
     "elapsed": 13009,
     "status": "ok",
     "timestamp": 1603761954772,
     "user": {
      "displayName": "Xuxian Chen",
      "photoUrl": "",
      "userId": "02993689448663336407"
     },
     "user_tz": 300
    },
    "id": "zZsGL67ATSiJ",
    "outputId": "9cb05952-15b4-441f-e2fc-d8c5e19adef3"
   },
   "outputs": [
    {
     "name": "stdout",
     "output_type": "stream",
     "text": [
      "Populating the interactive namespace from numpy and matplotlib\n"
     ]
    }
   ],
   "source": [
    "import pandas as pd\n",
    "import numpy as np\n",
    "import os\n",
    "\n",
    "\n",
    "#from google.colab import drive \n",
    "import os\n",
    "import pandas as pd\n",
    "#drive.mount('/content/drive')\n",
    "#os.chdir(\"/content/drive/Shared drives/Investment Theory Project Group\") #Or your path\n",
    "#!ls\n",
    "%pylab inline\n",
    "df = pd.read_csv('yerkidding.csv')"
   ]
  },
  {
   "cell_type": "code",
   "execution_count": 2,
   "metadata": {
    "executionInfo": {
     "elapsed": 2717,
     "status": "ok",
     "timestamp": 1603761957563,
     "user": {
      "displayName": "Xuxian Chen",
      "photoUrl": "",
      "userId": "02993689448663336407"
     },
     "user_tz": 300
    },
    "id": "t_TZyV5jTSiS"
   },
   "outputs": [],
   "source": [
    "df['adjusted prices'] = df['PRC'] / df['CFACPR']\n",
    "df['date'] = pd.to_datetime(df['date'])"
   ]
  },
  {
   "cell_type": "code",
   "execution_count": 3,
   "metadata": {
    "colab": {
     "base_uri": "https://localhost:8080/",
     "height": 674
    },
    "executionInfo": {
     "elapsed": 13533,
     "status": "ok",
     "timestamp": 1603757055754,
     "user": {
      "displayName": "Xuxian Chen",
      "photoUrl": "",
      "userId": "02993689448663336407"
     },
     "user_tz": 300
    },
    "id": "Pl-jaz-iTSib",
    "outputId": "1e94245b-cdf4-4ff4-f41e-5f2cd8347390"
   },
   "outputs": [
    {
     "data": {
      "text/html": [
       "<div>\n",
       "<style scoped>\n",
       "    .dataframe tbody tr th:only-of-type {\n",
       "        vertical-align: middle;\n",
       "    }\n",
       "\n",
       "    .dataframe tbody tr th {\n",
       "        vertical-align: top;\n",
       "    }\n",
       "\n",
       "    .dataframe thead th {\n",
       "        text-align: right;\n",
       "    }\n",
       "</style>\n",
       "<table border=\"1\" class=\"dataframe\">\n",
       "  <thead>\n",
       "    <tr style=\"text-align: right;\">\n",
       "      <th></th>\n",
       "      <th>PERMNO</th>\n",
       "      <th>date</th>\n",
       "      <th>TICKER</th>\n",
       "      <th>COMNAM</th>\n",
       "      <th>CUSIP</th>\n",
       "      <th>DIVAMT</th>\n",
       "      <th>SHRENDDT</th>\n",
       "      <th>PRC</th>\n",
       "      <th>VOL</th>\n",
       "      <th>RET</th>\n",
       "      <th>...</th>\n",
       "      <th>CFACPR</th>\n",
       "      <th>CFACSHR</th>\n",
       "      <th>ALTPRC</th>\n",
       "      <th>SPREAD</th>\n",
       "      <th>ALTPRCDT</th>\n",
       "      <th>RETX</th>\n",
       "      <th>vwretx</th>\n",
       "      <th>ewretx</th>\n",
       "      <th>sprtrn</th>\n",
       "      <th>adjusted prices</th>\n",
       "    </tr>\n",
       "  </thead>\n",
       "  <tbody>\n",
       "    <tr>\n",
       "      <th>0</th>\n",
       "      <td>10000</td>\n",
       "      <td>1985-12-31</td>\n",
       "      <td>NaN</td>\n",
       "      <td>NaN</td>\n",
       "      <td>68391610</td>\n",
       "      <td>NaN</td>\n",
       "      <td>NaN</td>\n",
       "      <td>NaN</td>\n",
       "      <td>NaN</td>\n",
       "      <td>NaN</td>\n",
       "      <td>...</td>\n",
       "      <td>NaN</td>\n",
       "      <td>NaN</td>\n",
       "      <td>-2.56250</td>\n",
       "      <td>NaN</td>\n",
       "      <td>01/07/1986</td>\n",
       "      <td>NaN</td>\n",
       "      <td>0.040080</td>\n",
       "      <td>0.026355</td>\n",
       "      <td>0.045061</td>\n",
       "      <td>NaN</td>\n",
       "    </tr>\n",
       "    <tr>\n",
       "      <th>1</th>\n",
       "      <td>10000</td>\n",
       "      <td>1986-01-31</td>\n",
       "      <td>OMFGA</td>\n",
       "      <td>OPTIMUM MANUFACTURING INC</td>\n",
       "      <td>68391610</td>\n",
       "      <td>NaN</td>\n",
       "      <td>04/29/1986</td>\n",
       "      <td>-4.37500</td>\n",
       "      <td>1771.0</td>\n",
       "      <td>C</td>\n",
       "      <td>...</td>\n",
       "      <td>1.0</td>\n",
       "      <td>1.0</td>\n",
       "      <td>-4.37500</td>\n",
       "      <td>0.250</td>\n",
       "      <td>01/31/1986</td>\n",
       "      <td>C</td>\n",
       "      <td>0.008006</td>\n",
       "      <td>0.043082</td>\n",
       "      <td>0.002367</td>\n",
       "      <td>-4.37500</td>\n",
       "    </tr>\n",
       "    <tr>\n",
       "      <th>2</th>\n",
       "      <td>10000</td>\n",
       "      <td>1986-02-28</td>\n",
       "      <td>OMFGA</td>\n",
       "      <td>OPTIMUM MANUFACTURING INC</td>\n",
       "      <td>68391610</td>\n",
       "      <td>NaN</td>\n",
       "      <td>NaN</td>\n",
       "      <td>-3.25000</td>\n",
       "      <td>828.0</td>\n",
       "      <td>-0.257143</td>\n",
       "      <td>...</td>\n",
       "      <td>1.0</td>\n",
       "      <td>1.0</td>\n",
       "      <td>-3.25000</td>\n",
       "      <td>0.250</td>\n",
       "      <td>02/28/1986</td>\n",
       "      <td>-0.257143</td>\n",
       "      <td>0.068190</td>\n",
       "      <td>0.058938</td>\n",
       "      <td>0.071489</td>\n",
       "      <td>-3.25000</td>\n",
       "    </tr>\n",
       "    <tr>\n",
       "      <th>3</th>\n",
       "      <td>10000</td>\n",
       "      <td>1986-03-31</td>\n",
       "      <td>OMFGA</td>\n",
       "      <td>OPTIMUM MANUFACTURING INC</td>\n",
       "      <td>68391610</td>\n",
       "      <td>NaN</td>\n",
       "      <td>NaN</td>\n",
       "      <td>-4.43750</td>\n",
       "      <td>1078.0</td>\n",
       "      <td>0.365385</td>\n",
       "      <td>...</td>\n",
       "      <td>1.0</td>\n",
       "      <td>1.0</td>\n",
       "      <td>-4.43750</td>\n",
       "      <td>0.125</td>\n",
       "      <td>03/31/1986</td>\n",
       "      <td>0.365385</td>\n",
       "      <td>0.051360</td>\n",
       "      <td>0.045679</td>\n",
       "      <td>0.052794</td>\n",
       "      <td>-4.43750</td>\n",
       "    </tr>\n",
       "    <tr>\n",
       "      <th>4</th>\n",
       "      <td>10000</td>\n",
       "      <td>1986-04-30</td>\n",
       "      <td>OMFGA</td>\n",
       "      <td>OPTIMUM MANUFACTURING INC</td>\n",
       "      <td>68391610</td>\n",
       "      <td>NaN</td>\n",
       "      <td>07/30/1986</td>\n",
       "      <td>-4.00000</td>\n",
       "      <td>957.0</td>\n",
       "      <td>-0.098592</td>\n",
       "      <td>...</td>\n",
       "      <td>1.0</td>\n",
       "      <td>1.0</td>\n",
       "      <td>-4.00000</td>\n",
       "      <td>0.250</td>\n",
       "      <td>04/30/1986</td>\n",
       "      <td>-0.098592</td>\n",
       "      <td>-0.009633</td>\n",
       "      <td>0.015141</td>\n",
       "      <td>-0.014148</td>\n",
       "      <td>-4.00000</td>\n",
       "    </tr>\n",
       "    <tr>\n",
       "      <th>...</th>\n",
       "      <td>...</td>\n",
       "      <td>...</td>\n",
       "      <td>...</td>\n",
       "      <td>...</td>\n",
       "      <td>...</td>\n",
       "      <td>...</td>\n",
       "      <td>...</td>\n",
       "      <td>...</td>\n",
       "      <td>...</td>\n",
       "      <td>...</td>\n",
       "      <td>...</td>\n",
       "      <td>...</td>\n",
       "      <td>...</td>\n",
       "      <td>...</td>\n",
       "      <td>...</td>\n",
       "      <td>...</td>\n",
       "      <td>...</td>\n",
       "      <td>...</td>\n",
       "      <td>...</td>\n",
       "      <td>...</td>\n",
       "      <td>...</td>\n",
       "    </tr>\n",
       "    <tr>\n",
       "      <th>3160587</th>\n",
       "      <td>93436</td>\n",
       "      <td>2019-08-30</td>\n",
       "      <td>TSLA</td>\n",
       "      <td>TESLA INC</td>\n",
       "      <td>88160R10</td>\n",
       "      <td>NaN</td>\n",
       "      <td>NaN</td>\n",
       "      <td>225.61000</td>\n",
       "      <td>1340932.0</td>\n",
       "      <td>-0.066222</td>\n",
       "      <td>...</td>\n",
       "      <td>1.0</td>\n",
       "      <td>1.0</td>\n",
       "      <td>225.61000</td>\n",
       "      <td>NaN</td>\n",
       "      <td>08/30/2019</td>\n",
       "      <td>-0.066222</td>\n",
       "      <td>-0.022301</td>\n",
       "      <td>-0.041599</td>\n",
       "      <td>-0.018092</td>\n",
       "      <td>225.61000</td>\n",
       "    </tr>\n",
       "    <tr>\n",
       "      <th>3160588</th>\n",
       "      <td>93436</td>\n",
       "      <td>2019-09-30</td>\n",
       "      <td>TSLA</td>\n",
       "      <td>TESLA INC</td>\n",
       "      <td>88160R10</td>\n",
       "      <td>NaN</td>\n",
       "      <td>10/20/2019</td>\n",
       "      <td>240.87000</td>\n",
       "      <td>1365915.0</td>\n",
       "      <td>0.067639</td>\n",
       "      <td>...</td>\n",
       "      <td>1.0</td>\n",
       "      <td>1.0</td>\n",
       "      <td>240.87000</td>\n",
       "      <td>NaN</td>\n",
       "      <td>09/30/2019</td>\n",
       "      <td>0.067639</td>\n",
       "      <td>0.014162</td>\n",
       "      <td>0.015359</td>\n",
       "      <td>0.017181</td>\n",
       "      <td>240.87000</td>\n",
       "    </tr>\n",
       "    <tr>\n",
       "      <th>3160589</th>\n",
       "      <td>93436</td>\n",
       "      <td>2019-10-31</td>\n",
       "      <td>TSLA</td>\n",
       "      <td>TESLA INC</td>\n",
       "      <td>88160R10</td>\n",
       "      <td>NaN</td>\n",
       "      <td>12/31/2019</td>\n",
       "      <td>314.92001</td>\n",
       "      <td>2351125.0</td>\n",
       "      <td>0.307427</td>\n",
       "      <td>...</td>\n",
       "      <td>1.0</td>\n",
       "      <td>1.0</td>\n",
       "      <td>314.92001</td>\n",
       "      <td>NaN</td>\n",
       "      <td>10/31/2019</td>\n",
       "      <td>0.307427</td>\n",
       "      <td>0.018094</td>\n",
       "      <td>0.005261</td>\n",
       "      <td>0.020432</td>\n",
       "      <td>314.92001</td>\n",
       "    </tr>\n",
       "    <tr>\n",
       "      <th>3160590</th>\n",
       "      <td>93436</td>\n",
       "      <td>2019-11-29</td>\n",
       "      <td>TSLA</td>\n",
       "      <td>TESLA INC</td>\n",
       "      <td>88160R10</td>\n",
       "      <td>NaN</td>\n",
       "      <td>NaN</td>\n",
       "      <td>329.94000</td>\n",
       "      <td>1578851.0</td>\n",
       "      <td>0.047695</td>\n",
       "      <td>...</td>\n",
       "      <td>1.0</td>\n",
       "      <td>1.0</td>\n",
       "      <td>329.94000</td>\n",
       "      <td>NaN</td>\n",
       "      <td>11/29/2019</td>\n",
       "      <td>0.047695</td>\n",
       "      <td>0.032961</td>\n",
       "      <td>0.024961</td>\n",
       "      <td>0.034047</td>\n",
       "      <td>329.94000</td>\n",
       "    </tr>\n",
       "    <tr>\n",
       "      <th>3160591</th>\n",
       "      <td>93436</td>\n",
       "      <td>2019-12-31</td>\n",
       "      <td>TSLA</td>\n",
       "      <td>TESLA INC</td>\n",
       "      <td>88160R10</td>\n",
       "      <td>NaN</td>\n",
       "      <td>NaN</td>\n",
       "      <td>418.32999</td>\n",
       "      <td>2070288.0</td>\n",
       "      <td>0.267897</td>\n",
       "      <td>...</td>\n",
       "      <td>1.0</td>\n",
       "      <td>1.0</td>\n",
       "      <td>418.32999</td>\n",
       "      <td>NaN</td>\n",
       "      <td>12/31/2019</td>\n",
       "      <td>0.267897</td>\n",
       "      <td>0.026200</td>\n",
       "      <td>0.040641</td>\n",
       "      <td>0.028590</td>\n",
       "      <td>418.32999</td>\n",
       "    </tr>\n",
       "  </tbody>\n",
       "</table>\n",
       "<p>3160592 rows × 21 columns</p>\n",
       "</div>"
      ],
      "text/plain": [
       "         PERMNO       date TICKER                     COMNAM     CUSIP  \\\n",
       "0         10000 1985-12-31    NaN                        NaN  68391610   \n",
       "1         10000 1986-01-31  OMFGA  OPTIMUM MANUFACTURING INC  68391610   \n",
       "2         10000 1986-02-28  OMFGA  OPTIMUM MANUFACTURING INC  68391610   \n",
       "3         10000 1986-03-31  OMFGA  OPTIMUM MANUFACTURING INC  68391610   \n",
       "4         10000 1986-04-30  OMFGA  OPTIMUM MANUFACTURING INC  68391610   \n",
       "...         ...        ...    ...                        ...       ...   \n",
       "3160587   93436 2019-08-30   TSLA                  TESLA INC  88160R10   \n",
       "3160588   93436 2019-09-30   TSLA                  TESLA INC  88160R10   \n",
       "3160589   93436 2019-10-31   TSLA                  TESLA INC  88160R10   \n",
       "3160590   93436 2019-11-29   TSLA                  TESLA INC  88160R10   \n",
       "3160591   93436 2019-12-31   TSLA                  TESLA INC  88160R10   \n",
       "\n",
       "         DIVAMT    SHRENDDT        PRC        VOL        RET  ...  CFACPR  \\\n",
       "0           NaN         NaN        NaN        NaN        NaN  ...     NaN   \n",
       "1           NaN  04/29/1986   -4.37500     1771.0          C  ...     1.0   \n",
       "2           NaN         NaN   -3.25000      828.0  -0.257143  ...     1.0   \n",
       "3           NaN         NaN   -4.43750     1078.0   0.365385  ...     1.0   \n",
       "4           NaN  07/30/1986   -4.00000      957.0  -0.098592  ...     1.0   \n",
       "...         ...         ...        ...        ...        ...  ...     ...   \n",
       "3160587     NaN         NaN  225.61000  1340932.0  -0.066222  ...     1.0   \n",
       "3160588     NaN  10/20/2019  240.87000  1365915.0   0.067639  ...     1.0   \n",
       "3160589     NaN  12/31/2019  314.92001  2351125.0   0.307427  ...     1.0   \n",
       "3160590     NaN         NaN  329.94000  1578851.0   0.047695  ...     1.0   \n",
       "3160591     NaN         NaN  418.32999  2070288.0   0.267897  ...     1.0   \n",
       "\n",
       "         CFACSHR     ALTPRC  SPREAD    ALTPRCDT       RETX    vwretx  \\\n",
       "0            NaN   -2.56250     NaN  01/07/1986        NaN  0.040080   \n",
       "1            1.0   -4.37500   0.250  01/31/1986          C  0.008006   \n",
       "2            1.0   -3.25000   0.250  02/28/1986  -0.257143  0.068190   \n",
       "3            1.0   -4.43750   0.125  03/31/1986   0.365385  0.051360   \n",
       "4            1.0   -4.00000   0.250  04/30/1986  -0.098592 -0.009633   \n",
       "...          ...        ...     ...         ...        ...       ...   \n",
       "3160587      1.0  225.61000     NaN  08/30/2019  -0.066222 -0.022301   \n",
       "3160588      1.0  240.87000     NaN  09/30/2019   0.067639  0.014162   \n",
       "3160589      1.0  314.92001     NaN  10/31/2019   0.307427  0.018094   \n",
       "3160590      1.0  329.94000     NaN  11/29/2019   0.047695  0.032961   \n",
       "3160591      1.0  418.32999     NaN  12/31/2019   0.267897  0.026200   \n",
       "\n",
       "           ewretx    sprtrn  adjusted prices  \n",
       "0        0.026355  0.045061              NaN  \n",
       "1        0.043082  0.002367         -4.37500  \n",
       "2        0.058938  0.071489         -3.25000  \n",
       "3        0.045679  0.052794         -4.43750  \n",
       "4        0.015141 -0.014148         -4.00000  \n",
       "...           ...       ...              ...  \n",
       "3160587 -0.041599 -0.018092        225.61000  \n",
       "3160588  0.015359  0.017181        240.87000  \n",
       "3160589  0.005261  0.020432        314.92001  \n",
       "3160590  0.024961  0.034047        329.94000  \n",
       "3160591  0.040641  0.028590        418.32999  \n",
       "\n",
       "[3160592 rows x 21 columns]"
      ]
     },
     "execution_count": 3,
     "metadata": {},
     "output_type": "execute_result"
    }
   ],
   "source": [
    "df"
   ]
  },
  {
   "cell_type": "code",
   "execution_count": 3,
   "metadata": {
    "executionInfo": {
     "elapsed": 779,
     "status": "ok",
     "timestamp": 1603762017793,
     "user": {
      "displayName": "Xuxian Chen",
      "photoUrl": "",
      "userId": "02993689448663336407"
     },
     "user_tz": 300
    },
    "id": "G199xrgoTSij"
   },
   "outputs": [],
   "source": [
    "df = df[df['VOL'].notna()] # dropping null values for trading volume"
   ]
  },
  {
   "cell_type": "code",
   "execution_count": 4,
   "metadata": {
    "executionInfo": {
     "elapsed": 520,
     "status": "ok",
     "timestamp": 1603762015758,
     "user": {
      "displayName": "Xuxian Chen",
      "photoUrl": "",
      "userId": "02993689448663336407"
     },
     "user_tz": 300
    },
    "id": "qA_hO2WCTSim"
   },
   "outputs": [],
   "source": [
    "agg_res = df.groupby(['date'])['VOL'].agg('sum') #grouping by trading volume and summing to get total trading volume per day\n",
    "agg_res = pd.DataFrame(agg_res) #turning into df\n",
    "agg_res.rename(columns = {'VOL': 'total trading vol'}, inplace = True) #renaming "
   ]
  },
  {
   "cell_type": "code",
   "execution_count": 5,
   "metadata": {
    "executionInfo": {
     "elapsed": 440,
     "status": "ok",
     "timestamp": 1603762022790,
     "user": {
      "displayName": "Xuxian Chen",
      "photoUrl": "",
      "userId": "02993689448663336407"
     },
     "user_tz": 300
    },
    "id": "pjl8AuMzTSip"
   },
   "outputs": [],
   "source": [
    "agg_res = agg_res.reset_index() # reseting to merge"
   ]
  },
  {
   "cell_type": "code",
   "execution_count": 6,
   "metadata": {
    "executionInfo": {
     "elapsed": 27194,
     "status": "ok",
     "timestamp": 1603757069446,
     "user": {
      "displayName": "Xuxian Chen",
      "photoUrl": "",
      "userId": "02993689448663336407"
     },
     "user_tz": 300
    },
    "id": "Gw6-LHqNTSit"
   },
   "outputs": [],
   "source": [
    "merged_df = pd.merge(agg_res, df, on = 'date') # merging on date"
   ]
  },
  {
   "cell_type": "code",
   "execution_count": 7,
   "metadata": {
    "executionInfo": {
     "elapsed": 27189,
     "status": "ok",
     "timestamp": 1603757069448,
     "user": {
      "displayName": "Xuxian Chen",
      "photoUrl": "",
      "userId": "02993689448663336407"
     },
     "user_tz": 300
    },
    "id": "R3hWnaQTTSiv"
   },
   "outputs": [],
   "source": [
    "merged_df['relative trading vol'] = merged_df['VOL'] / merged_df['total trading vol'] # getting relative trading volume"
   ]
  },
  {
   "cell_type": "code",
   "execution_count": 8,
   "metadata": {
    "colab": {
     "base_uri": "https://localhost:8080/",
     "height": 450
    },
    "executionInfo": {
     "elapsed": 5818,
     "status": "ok",
     "timestamp": 1603762761189,
     "user": {
      "displayName": "Xuxian Chen",
      "photoUrl": "",
      "userId": "02993689448663336407"
     },
     "user_tz": 300
    },
    "id": "N69Pdx7mrgrJ",
    "outputId": "f3e822da-02f2-42f2-84d7-f5907fe7bce9"
   },
   "outputs": [
    {
     "name": "stderr",
     "output_type": "stream",
     "text": [
      "C:\\Users\\Admin\\Downloads\\anaconda3\\lib\\site-packages\\ipykernel_launcher.py:5: UserWarning: Boolean Series key will be reindexed to match DataFrame index.\n",
      "  \"\"\"\n"
     ]
    },
    {
     "data": {
      "text/html": [
       "<div>\n",
       "<style scoped>\n",
       "    .dataframe tbody tr th:only-of-type {\n",
       "        vertical-align: middle;\n",
       "    }\n",
       "\n",
       "    .dataframe tbody tr th {\n",
       "        vertical-align: top;\n",
       "    }\n",
       "\n",
       "    .dataframe thead th {\n",
       "        text-align: right;\n",
       "    }\n",
       "</style>\n",
       "<table border=\"1\" class=\"dataframe\">\n",
       "  <thead>\n",
       "    <tr style=\"text-align: right;\">\n",
       "      <th></th>\n",
       "      <th>date</th>\n",
       "      <th>total trading vol</th>\n",
       "      <th>PERMNO</th>\n",
       "      <th>TICKER</th>\n",
       "      <th>COMNAM</th>\n",
       "      <th>CUSIP</th>\n",
       "      <th>DIVAMT</th>\n",
       "      <th>SHRENDDT</th>\n",
       "      <th>PRC</th>\n",
       "      <th>VOL</th>\n",
       "      <th>...</th>\n",
       "      <th>CFACSHR</th>\n",
       "      <th>ALTPRC</th>\n",
       "      <th>SPREAD</th>\n",
       "      <th>ALTPRCDT</th>\n",
       "      <th>RETX</th>\n",
       "      <th>vwretx</th>\n",
       "      <th>ewretx</th>\n",
       "      <th>sprtrn</th>\n",
       "      <th>adjusted prices</th>\n",
       "      <th>relative trading vol</th>\n",
       "    </tr>\n",
       "  </thead>\n",
       "  <tbody>\n",
       "    <tr>\n",
       "      <th>0</th>\n",
       "      <td>1985-01-31</td>\n",
       "      <td>51078840.0</td>\n",
       "      <td>10015</td>\n",
       "      <td>AMFD</td>\n",
       "      <td>A &amp; M FOOD SERVICES INC</td>\n",
       "      <td>00016510</td>\n",
       "      <td>NaN</td>\n",
       "      <td>NaN</td>\n",
       "      <td>5.000</td>\n",
       "      <td>775.0</td>\n",
       "      <td>...</td>\n",
       "      <td>1.0</td>\n",
       "      <td>5.000</td>\n",
       "      <td>NaN</td>\n",
       "      <td>01/31/1985</td>\n",
       "      <td>0.311475</td>\n",
       "      <td>0.083506</td>\n",
       "      <td>0.120225</td>\n",
       "      <td>0.074085</td>\n",
       "      <td>5.000</td>\n",
       "      <td>0.000015</td>\n",
       "    </tr>\n",
       "    <tr>\n",
       "      <th>1</th>\n",
       "      <td>1985-01-31</td>\n",
       "      <td>51078840.0</td>\n",
       "      <td>10031</td>\n",
       "      <td>ANTQ</td>\n",
       "      <td>A A IMPORTING INC</td>\n",
       "      <td>00035410</td>\n",
       "      <td>NaN</td>\n",
       "      <td>NaN</td>\n",
       "      <td>-3.250</td>\n",
       "      <td>359.0</td>\n",
       "      <td>...</td>\n",
       "      <td>1.0</td>\n",
       "      <td>-3.250</td>\n",
       "      <td>0.5</td>\n",
       "      <td>01/31/1985</td>\n",
       "      <td>0.083333</td>\n",
       "      <td>0.083506</td>\n",
       "      <td>0.120225</td>\n",
       "      <td>0.074085</td>\n",
       "      <td>-3.250</td>\n",
       "      <td>0.000007</td>\n",
       "    </tr>\n",
       "    <tr>\n",
       "      <th>2</th>\n",
       "      <td>1985-01-31</td>\n",
       "      <td>51078840.0</td>\n",
       "      <td>10057</td>\n",
       "      <td>AMT</td>\n",
       "      <td>ACME CLEVELAND CORP</td>\n",
       "      <td>00462610</td>\n",
       "      <td>0.10000</td>\n",
       "      <td>NaN</td>\n",
       "      <td>18.625</td>\n",
       "      <td>5423.0</td>\n",
       "      <td>...</td>\n",
       "      <td>1.0</td>\n",
       "      <td>18.625</td>\n",
       "      <td>NaN</td>\n",
       "      <td>01/31/1985</td>\n",
       "      <td>0.432692</td>\n",
       "      <td>0.083506</td>\n",
       "      <td>0.120225</td>\n",
       "      <td>0.074085</td>\n",
       "      <td>18.625</td>\n",
       "      <td>0.000106</td>\n",
       "    </tr>\n",
       "    <tr>\n",
       "      <th>3</th>\n",
       "      <td>1985-01-31</td>\n",
       "      <td>51078840.0</td>\n",
       "      <td>10065</td>\n",
       "      <td>ADX</td>\n",
       "      <td>ADAMS EXPRESS CO</td>\n",
       "      <td>00621210</td>\n",
       "      <td>1.18000</td>\n",
       "      <td>NaN</td>\n",
       "      <td>16.500</td>\n",
       "      <td>2681.0</td>\n",
       "      <td>...</td>\n",
       "      <td>1.5</td>\n",
       "      <td>16.500</td>\n",
       "      <td>NaN</td>\n",
       "      <td>01/31/1985</td>\n",
       "      <td>0.063459</td>\n",
       "      <td>0.083506</td>\n",
       "      <td>0.120225</td>\n",
       "      <td>0.074085</td>\n",
       "      <td>11.000</td>\n",
       "      <td>0.000052</td>\n",
       "    </tr>\n",
       "    <tr>\n",
       "      <th>4</th>\n",
       "      <td>1985-01-31</td>\n",
       "      <td>51078840.0</td>\n",
       "      <td>10065</td>\n",
       "      <td>ADX</td>\n",
       "      <td>ADAMS EXPRESS CO</td>\n",
       "      <td>00621210</td>\n",
       "      <td>0.13452</td>\n",
       "      <td>NaN</td>\n",
       "      <td>16.500</td>\n",
       "      <td>2681.0</td>\n",
       "      <td>...</td>\n",
       "      <td>1.5</td>\n",
       "      <td>16.500</td>\n",
       "      <td>NaN</td>\n",
       "      <td>01/31/1985</td>\n",
       "      <td>0.063459</td>\n",
       "      <td>0.083506</td>\n",
       "      <td>0.120225</td>\n",
       "      <td>0.074085</td>\n",
       "      <td>11.000</td>\n",
       "      <td>0.000052</td>\n",
       "    </tr>\n",
       "  </tbody>\n",
       "</table>\n",
       "<p>5 rows × 23 columns</p>\n",
       "</div>"
      ],
      "text/plain": [
       "        date  total trading vol  PERMNO TICKER                   COMNAM  \\\n",
       "0 1985-01-31         51078840.0   10015   AMFD  A & M FOOD SERVICES INC   \n",
       "1 1985-01-31         51078840.0   10031   ANTQ        A A IMPORTING INC   \n",
       "2 1985-01-31         51078840.0   10057    AMT      ACME CLEVELAND CORP   \n",
       "3 1985-01-31         51078840.0   10065    ADX         ADAMS EXPRESS CO   \n",
       "4 1985-01-31         51078840.0   10065    ADX         ADAMS EXPRESS CO   \n",
       "\n",
       "      CUSIP   DIVAMT SHRENDDT     PRC     VOL  ... CFACSHR  ALTPRC  SPREAD  \\\n",
       "0  00016510      NaN      NaN   5.000   775.0  ...     1.0   5.000     NaN   \n",
       "1  00035410      NaN      NaN  -3.250   359.0  ...     1.0  -3.250     0.5   \n",
       "2  00462610  0.10000      NaN  18.625  5423.0  ...     1.0  18.625     NaN   \n",
       "3  00621210  1.18000      NaN  16.500  2681.0  ...     1.5  16.500     NaN   \n",
       "4  00621210  0.13452      NaN  16.500  2681.0  ...     1.5  16.500     NaN   \n",
       "\n",
       "     ALTPRCDT      RETX    vwretx    ewretx    sprtrn  adjusted prices  \\\n",
       "0  01/31/1985  0.311475  0.083506  0.120225  0.074085            5.000   \n",
       "1  01/31/1985  0.083333  0.083506  0.120225  0.074085           -3.250   \n",
       "2  01/31/1985  0.432692  0.083506  0.120225  0.074085           18.625   \n",
       "3  01/31/1985  0.063459  0.083506  0.120225  0.074085           11.000   \n",
       "4  01/31/1985  0.063459  0.083506  0.120225  0.074085           11.000   \n",
       "\n",
       "   relative trading vol  \n",
       "0              0.000015  \n",
       "1              0.000007  \n",
       "2              0.000106  \n",
       "3              0.000052  \n",
       "4              0.000052  \n",
       "\n",
       "[5 rows x 23 columns]"
      ]
     },
     "execution_count": 8,
     "metadata": {},
     "output_type": "execute_result"
    }
   ],
   "source": [
    "trading_volume_mask = merged_df['RETX'] != 'C' \n",
    "trading_volume = merged_df[trading_volume_mask]\n",
    "trading_volume_mask_2 = merged_df['RETX'] != 'B' \n",
    "trading_volume = merged_df[trading_volume_mask]\n",
    "trading_volume = trading_volume[trading_volume_mask_2]\n",
    "trading_volume = trading_volume[trading_volume['RETX'].notna()] #dropping na\n",
    "trading_volume = trading_volume[trading_volume['sprtrn'].notna()] #dropping na\n",
    "trading_volume['RETX'] = trading_volume['RETX'].astype(float)\n",
    "trading_volume['sprtrn'] = trading_volume['sprtrn'].astype(float)\n",
    "trading_volume.head()"
   ]
  },
  {
   "cell_type": "code",
   "execution_count": 9,
   "metadata": {
    "executionInfo": {
     "elapsed": 349,
     "status": "ok",
     "timestamp": 1603763752683,
     "user": {
      "displayName": "Xuxian Chen",
      "photoUrl": "",
      "userId": "02993689448663336407"
     },
     "user_tz": 300
    },
    "id": "wvEqItYwtvnR"
   },
   "outputs": [
    {
     "data": {
      "text/plain": [
       "0.0"
      ]
     },
     "execution_count": 9,
     "metadata": {},
     "output_type": "execute_result"
    }
   ],
   "source": [
    "# Get MKT CAP\n",
    "trading_volume['PR_ADJ'] = trading_volume['PRC']/trading_volume['CFACPR']\n",
    "trading_volume['SHR_ADJ'] = trading_volume['SHROUT']*trading_volume['CFACSHR']\n",
    "trading_volume['MKTCAP'] = abs(trading_volume['PRC'])*trading_volume['SHROUT']\n",
    "trading_volume['MKTCAP'].min()"
   ]
  },
  {
   "cell_type": "code",
   "execution_count": 10,
   "metadata": {
    "colab": {
     "base_uri": "https://localhost:8080/",
     "height": 366
    },
    "executionInfo": {
     "elapsed": 412788,
     "status": "ok",
     "timestamp": 1603764190268,
     "user": {
      "displayName": "Xuxian Chen",
      "photoUrl": "",
      "userId": "02993689448663336407"
     },
     "user_tz": 300
    },
    "id": "NGvxfoL6xNPt",
    "outputId": "3d348944-661a-451b-a032-03227ed6094d"
   },
   "outputs": [
    {
     "data": {
      "text/html": [
       "<div>\n",
       "<style scoped>\n",
       "    .dataframe tbody tr th:only-of-type {\n",
       "        vertical-align: middle;\n",
       "    }\n",
       "\n",
       "    .dataframe tbody tr th {\n",
       "        vertical-align: top;\n",
       "    }\n",
       "\n",
       "    .dataframe thead th {\n",
       "        text-align: right;\n",
       "    }\n",
       "</style>\n",
       "<table border=\"1\" class=\"dataframe\">\n",
       "  <thead>\n",
       "    <tr style=\"text-align: right;\">\n",
       "      <th></th>\n",
       "      <th>date</th>\n",
       "      <th>total trading vol</th>\n",
       "      <th>PERMNO</th>\n",
       "      <th>TICKER</th>\n",
       "      <th>COMNAM</th>\n",
       "      <th>CUSIP</th>\n",
       "      <th>DIVAMT</th>\n",
       "      <th>SHRENDDT</th>\n",
       "      <th>PRC</th>\n",
       "      <th>VOL</th>\n",
       "      <th>...</th>\n",
       "      <th>ALTPRCDT</th>\n",
       "      <th>RETX</th>\n",
       "      <th>vwretx</th>\n",
       "      <th>ewretx</th>\n",
       "      <th>sprtrn</th>\n",
       "      <th>adjusted prices</th>\n",
       "      <th>relative trading vol</th>\n",
       "      <th>PR_ADJ</th>\n",
       "      <th>SHR_ADJ</th>\n",
       "      <th>MKTCAP</th>\n",
       "    </tr>\n",
       "  </thead>\n",
       "  <tbody>\n",
       "    <tr>\n",
       "      <th>183</th>\n",
       "      <td>1985-01-31</td>\n",
       "      <td>51078840.0</td>\n",
       "      <td>12490</td>\n",
       "      <td>IBM</td>\n",
       "      <td>INTERNATIONAL BUSINESS MACHS COR</td>\n",
       "      <td>45920010</td>\n",
       "      <td>NaN</td>\n",
       "      <td>NaN</td>\n",
       "      <td>136.375</td>\n",
       "      <td>326625.0</td>\n",
       "      <td>...</td>\n",
       "      <td>01/31/1985</td>\n",
       "      <td>0.107614</td>\n",
       "      <td>0.083506</td>\n",
       "      <td>0.120225</td>\n",
       "      <td>0.074085</td>\n",
       "      <td>34.093750</td>\n",
       "      <td>0.006395</td>\n",
       "      <td>34.093750</td>\n",
       "      <td>2450744.0</td>\n",
       "      <td>8.355505e+07</td>\n",
       "    </tr>\n",
       "    <tr>\n",
       "      <th>130</th>\n",
       "      <td>1985-01-31</td>\n",
       "      <td>51078840.0</td>\n",
       "      <td>11850</td>\n",
       "      <td>XON</td>\n",
       "      <td>EXXON CORP</td>\n",
       "      <td>30231G10</td>\n",
       "      <td>NaN</td>\n",
       "      <td>NaN</td>\n",
       "      <td>48.000</td>\n",
       "      <td>223834.0</td>\n",
       "      <td>...</td>\n",
       "      <td>01/31/1985</td>\n",
       "      <td>0.066667</td>\n",
       "      <td>0.083506</td>\n",
       "      <td>0.120225</td>\n",
       "      <td>0.074085</td>\n",
       "      <td>6.000000</td>\n",
       "      <td>0.004382</td>\n",
       "      <td>6.000000</td>\n",
       "      <td>6264408.0</td>\n",
       "      <td>3.758645e+07</td>\n",
       "    </tr>\n",
       "    <tr>\n",
       "      <th>152</th>\n",
       "      <td>1985-01-31</td>\n",
       "      <td>51078840.0</td>\n",
       "      <td>12060</td>\n",
       "      <td>GE</td>\n",
       "      <td>GENERAL ELECTRIC CO</td>\n",
       "      <td>36960410</td>\n",
       "      <td>NaN</td>\n",
       "      <td>NaN</td>\n",
       "      <td>63.875</td>\n",
       "      <td>159707.0</td>\n",
       "      <td>...</td>\n",
       "      <td>01/31/1985</td>\n",
       "      <td>0.128035</td>\n",
       "      <td>0.083506</td>\n",
       "      <td>0.120225</td>\n",
       "      <td>0.074085</td>\n",
       "      <td>2.661458</td>\n",
       "      <td>0.003127</td>\n",
       "      <td>2.661458</td>\n",
       "      <td>10917024.0</td>\n",
       "      <td>2.905520e+07</td>\n",
       "    </tr>\n",
       "    <tr>\n",
       "      <th>155</th>\n",
       "      <td>1985-01-31</td>\n",
       "      <td>51078840.0</td>\n",
       "      <td>12079</td>\n",
       "      <td>GM</td>\n",
       "      <td>GENERAL MOTORS CORP</td>\n",
       "      <td>37044210</td>\n",
       "      <td>NaN</td>\n",
       "      <td>NaN</td>\n",
       "      <td>83.125</td>\n",
       "      <td>180859.0</td>\n",
       "      <td>...</td>\n",
       "      <td>01/31/1985</td>\n",
       "      <td>0.060606</td>\n",
       "      <td>0.083506</td>\n",
       "      <td>0.120225</td>\n",
       "      <td>0.074085</td>\n",
       "      <td>31.803488</td>\n",
       "      <td>0.003541</td>\n",
       "      <td>31.803488</td>\n",
       "      <td>630902.0</td>\n",
       "      <td>2.622186e+07</td>\n",
       "    </tr>\n",
       "    <tr>\n",
       "      <th>29</th>\n",
       "      <td>1985-01-31</td>\n",
       "      <td>51078840.0</td>\n",
       "      <td>10401</td>\n",
       "      <td>T</td>\n",
       "      <td>AMERICAN TELEPHONE &amp; TELEG CO</td>\n",
       "      <td>00195750</td>\n",
       "      <td>NaN</td>\n",
       "      <td>NaN</td>\n",
       "      <td>20.375</td>\n",
       "      <td>550618.0</td>\n",
       "      <td>...</td>\n",
       "      <td>01/31/1985</td>\n",
       "      <td>0.044872</td>\n",
       "      <td>0.083506</td>\n",
       "      <td>0.120225</td>\n",
       "      <td>0.074085</td>\n",
       "      <td>14.818915</td>\n",
       "      <td>0.010780</td>\n",
       "      <td>14.818915</td>\n",
       "      <td>308238.0</td>\n",
       "      <td>2.093450e+07</td>\n",
       "    </tr>\n",
       "  </tbody>\n",
       "</table>\n",
       "<p>5 rows × 26 columns</p>\n",
       "</div>"
      ],
      "text/plain": [
       "          date  total trading vol  PERMNO TICKER  \\\n",
       "183 1985-01-31         51078840.0   12490    IBM   \n",
       "130 1985-01-31         51078840.0   11850    XON   \n",
       "152 1985-01-31         51078840.0   12060     GE   \n",
       "155 1985-01-31         51078840.0   12079     GM   \n",
       "29  1985-01-31         51078840.0   10401      T   \n",
       "\n",
       "                               COMNAM     CUSIP  DIVAMT SHRENDDT      PRC  \\\n",
       "183  INTERNATIONAL BUSINESS MACHS COR  45920010     NaN      NaN  136.375   \n",
       "130                        EXXON CORP  30231G10     NaN      NaN   48.000   \n",
       "152               GENERAL ELECTRIC CO  36960410     NaN      NaN   63.875   \n",
       "155               GENERAL MOTORS CORP  37044210     NaN      NaN   83.125   \n",
       "29      AMERICAN TELEPHONE & TELEG CO  00195750     NaN      NaN   20.375   \n",
       "\n",
       "          VOL  ...    ALTPRCDT      RETX    vwretx    ewretx    sprtrn  \\\n",
       "183  326625.0  ...  01/31/1985  0.107614  0.083506  0.120225  0.074085   \n",
       "130  223834.0  ...  01/31/1985  0.066667  0.083506  0.120225  0.074085   \n",
       "152  159707.0  ...  01/31/1985  0.128035  0.083506  0.120225  0.074085   \n",
       "155  180859.0  ...  01/31/1985  0.060606  0.083506  0.120225  0.074085   \n",
       "29   550618.0  ...  01/31/1985  0.044872  0.083506  0.120225  0.074085   \n",
       "\n",
       "     adjusted prices relative trading vol     PR_ADJ     SHR_ADJ        MKTCAP  \n",
       "183        34.093750             0.006395  34.093750   2450744.0  8.355505e+07  \n",
       "130         6.000000             0.004382   6.000000   6264408.0  3.758645e+07  \n",
       "152         2.661458             0.003127   2.661458  10917024.0  2.905520e+07  \n",
       "155        31.803488             0.003541  31.803488    630902.0  2.622186e+07  \n",
       "29         14.818915             0.010780  14.818915    308238.0  2.093450e+07  \n",
       "\n",
       "[5 rows x 26 columns]"
      ]
     },
     "execution_count": 10,
     "metadata": {},
     "output_type": "execute_result"
    }
   ],
   "source": [
    "# drop the lowest 10% cap for each day\n",
    "\n",
    "clean_df = pd.DataFrame()\n",
    "for day in unique(trading_volume.date):\n",
    "  tmp = trading_volume[trading_volume.date == day]\n",
    "  n = round(len(tmp) * 0.9)\n",
    "  clean_df = pd.concat([clean_df,tmp.sort_values(by='MKTCAP', ascending = False)[:n]])\n",
    "clean_df.head() # the new df is excluing the lowest 10 % cap for each day"
   ]
  },
  {
   "cell_type": "code",
   "execution_count": 11,
   "metadata": {},
   "outputs": [],
   "source": [
    "clean_df['percentiles'] = pd.qcut(clean_df['relative trading vol'], \\\n",
    "                                           4,\\\n",
    "                                           labels = ['0-25', '25-50', '50-75', '75-100']) #creating quantiles\n",
    "clean_df['percentiles'] = clean_df['percentiles'].astype(str) #changing to string variable"
   ]
  },
  {
   "cell_type": "code",
   "execution_count": 12,
   "metadata": {},
   "outputs": [
    {
     "data": {
      "text/html": [
       "<div>\n",
       "<style scoped>\n",
       "    .dataframe tbody tr th:only-of-type {\n",
       "        vertical-align: middle;\n",
       "    }\n",
       "\n",
       "    .dataframe tbody tr th {\n",
       "        vertical-align: top;\n",
       "    }\n",
       "\n",
       "    .dataframe thead th {\n",
       "        text-align: right;\n",
       "    }\n",
       "</style>\n",
       "<table border=\"1\" class=\"dataframe\">\n",
       "  <thead>\n",
       "    <tr style=\"text-align: right;\">\n",
       "      <th></th>\n",
       "      <th>date</th>\n",
       "      <th>total trading vol</th>\n",
       "      <th>PERMNO</th>\n",
       "      <th>TICKER</th>\n",
       "      <th>COMNAM</th>\n",
       "      <th>CUSIP</th>\n",
       "      <th>DIVAMT</th>\n",
       "      <th>SHRENDDT</th>\n",
       "      <th>PRC</th>\n",
       "      <th>VOL</th>\n",
       "      <th>...</th>\n",
       "      <th>RETX</th>\n",
       "      <th>vwretx</th>\n",
       "      <th>ewretx</th>\n",
       "      <th>sprtrn</th>\n",
       "      <th>adjusted prices</th>\n",
       "      <th>relative trading vol</th>\n",
       "      <th>PR_ADJ</th>\n",
       "      <th>SHR_ADJ</th>\n",
       "      <th>MKTCAP</th>\n",
       "      <th>percentiles</th>\n",
       "    </tr>\n",
       "  </thead>\n",
       "  <tbody>\n",
       "    <tr>\n",
       "      <th>183</th>\n",
       "      <td>1985-01-31</td>\n",
       "      <td>5.107884e+07</td>\n",
       "      <td>12490</td>\n",
       "      <td>IBM</td>\n",
       "      <td>INTERNATIONAL BUSINESS MACHS COR</td>\n",
       "      <td>45920010</td>\n",
       "      <td>NaN</td>\n",
       "      <td>NaN</td>\n",
       "      <td>136.37500</td>\n",
       "      <td>326625.0</td>\n",
       "      <td>...</td>\n",
       "      <td>0.107614</td>\n",
       "      <td>0.083506</td>\n",
       "      <td>0.120225</td>\n",
       "      <td>0.074085</td>\n",
       "      <td>34.093750</td>\n",
       "      <td>6.394527e-03</td>\n",
       "      <td>34.093750</td>\n",
       "      <td>2450744.0</td>\n",
       "      <td>8.355505e+07</td>\n",
       "      <td>75-100</td>\n",
       "    </tr>\n",
       "    <tr>\n",
       "      <th>130</th>\n",
       "      <td>1985-01-31</td>\n",
       "      <td>5.107884e+07</td>\n",
       "      <td>11850</td>\n",
       "      <td>XON</td>\n",
       "      <td>EXXON CORP</td>\n",
       "      <td>30231G10</td>\n",
       "      <td>NaN</td>\n",
       "      <td>NaN</td>\n",
       "      <td>48.00000</td>\n",
       "      <td>223834.0</td>\n",
       "      <td>...</td>\n",
       "      <td>0.066667</td>\n",
       "      <td>0.083506</td>\n",
       "      <td>0.120225</td>\n",
       "      <td>0.074085</td>\n",
       "      <td>6.000000</td>\n",
       "      <td>4.382128e-03</td>\n",
       "      <td>6.000000</td>\n",
       "      <td>6264408.0</td>\n",
       "      <td>3.758645e+07</td>\n",
       "      <td>75-100</td>\n",
       "    </tr>\n",
       "    <tr>\n",
       "      <th>152</th>\n",
       "      <td>1985-01-31</td>\n",
       "      <td>5.107884e+07</td>\n",
       "      <td>12060</td>\n",
       "      <td>GE</td>\n",
       "      <td>GENERAL ELECTRIC CO</td>\n",
       "      <td>36960410</td>\n",
       "      <td>NaN</td>\n",
       "      <td>NaN</td>\n",
       "      <td>63.87500</td>\n",
       "      <td>159707.0</td>\n",
       "      <td>...</td>\n",
       "      <td>0.128035</td>\n",
       "      <td>0.083506</td>\n",
       "      <td>0.120225</td>\n",
       "      <td>0.074085</td>\n",
       "      <td>2.661458</td>\n",
       "      <td>3.126676e-03</td>\n",
       "      <td>2.661458</td>\n",
       "      <td>10917024.0</td>\n",
       "      <td>2.905520e+07</td>\n",
       "      <td>75-100</td>\n",
       "    </tr>\n",
       "    <tr>\n",
       "      <th>155</th>\n",
       "      <td>1985-01-31</td>\n",
       "      <td>5.107884e+07</td>\n",
       "      <td>12079</td>\n",
       "      <td>GM</td>\n",
       "      <td>GENERAL MOTORS CORP</td>\n",
       "      <td>37044210</td>\n",
       "      <td>NaN</td>\n",
       "      <td>NaN</td>\n",
       "      <td>83.12500</td>\n",
       "      <td>180859.0</td>\n",
       "      <td>...</td>\n",
       "      <td>0.060606</td>\n",
       "      <td>0.083506</td>\n",
       "      <td>0.120225</td>\n",
       "      <td>0.074085</td>\n",
       "      <td>31.803488</td>\n",
       "      <td>3.540781e-03</td>\n",
       "      <td>31.803488</td>\n",
       "      <td>630902.0</td>\n",
       "      <td>2.622186e+07</td>\n",
       "      <td>75-100</td>\n",
       "    </tr>\n",
       "    <tr>\n",
       "      <th>29</th>\n",
       "      <td>1985-01-31</td>\n",
       "      <td>5.107884e+07</td>\n",
       "      <td>10401</td>\n",
       "      <td>T</td>\n",
       "      <td>AMERICAN TELEPHONE &amp; TELEG CO</td>\n",
       "      <td>00195750</td>\n",
       "      <td>NaN</td>\n",
       "      <td>NaN</td>\n",
       "      <td>20.37500</td>\n",
       "      <td>550618.0</td>\n",
       "      <td>...</td>\n",
       "      <td>0.044872</td>\n",
       "      <td>0.083506</td>\n",
       "      <td>0.120225</td>\n",
       "      <td>0.074085</td>\n",
       "      <td>14.818915</td>\n",
       "      <td>1.077977e-02</td>\n",
       "      <td>14.818915</td>\n",
       "      <td>308238.0</td>\n",
       "      <td>2.093450e+07</td>\n",
       "      <td>75-100</td>\n",
       "    </tr>\n",
       "    <tr>\n",
       "      <th>...</th>\n",
       "      <td>...</td>\n",
       "      <td>...</td>\n",
       "      <td>...</td>\n",
       "      <td>...</td>\n",
       "      <td>...</td>\n",
       "      <td>...</td>\n",
       "      <td>...</td>\n",
       "      <td>...</td>\n",
       "      <td>...</td>\n",
       "      <td>...</td>\n",
       "      <td>...</td>\n",
       "      <td>...</td>\n",
       "      <td>...</td>\n",
       "      <td>...</td>\n",
       "      <td>...</td>\n",
       "      <td>...</td>\n",
       "      <td>...</td>\n",
       "      <td>...</td>\n",
       "      <td>...</td>\n",
       "      <td>...</td>\n",
       "      <td>...</td>\n",
       "    </tr>\n",
       "    <tr>\n",
       "      <th>3086147</th>\n",
       "      <td>2019-12-31</td>\n",
       "      <td>1.455115e+09</td>\n",
       "      <td>15881</td>\n",
       "      <td>GASX</td>\n",
       "      <td>DIREXION SHARES E T F TRUST</td>\n",
       "      <td>25490K11</td>\n",
       "      <td>0.03595</td>\n",
       "      <td>12/31/2019</td>\n",
       "      <td>41.42000</td>\n",
       "      <td>17113.0</td>\n",
       "      <td>...</td>\n",
       "      <td>-0.454821</td>\n",
       "      <td>0.026200</td>\n",
       "      <td>0.040641</td>\n",
       "      <td>0.028590</td>\n",
       "      <td>41.420000</td>\n",
       "      <td>1.176058e-05</td>\n",
       "      <td>41.420000</td>\n",
       "      <td>400.0</td>\n",
       "      <td>1.656800e+04</td>\n",
       "      <td>25-50</td>\n",
       "    </tr>\n",
       "    <tr>\n",
       "      <th>3087092</th>\n",
       "      <td>2019-12-31</td>\n",
       "      <td>1.455115e+09</td>\n",
       "      <td>17412</td>\n",
       "      <td>MAGA</td>\n",
       "      <td>E T F SERIES SOLUTIONS</td>\n",
       "      <td>26922A62</td>\n",
       "      <td>0.62802</td>\n",
       "      <td>12/31/2019</td>\n",
       "      <td>28.73000</td>\n",
       "      <td>1063.0</td>\n",
       "      <td>...</td>\n",
       "      <td>0.007720</td>\n",
       "      <td>0.026200</td>\n",
       "      <td>0.040641</td>\n",
       "      <td>0.028590</td>\n",
       "      <td>28.730000</td>\n",
       "      <td>7.305263e-07</td>\n",
       "      <td>28.730000</td>\n",
       "      <td>575.0</td>\n",
       "      <td>1.651975e+04</td>\n",
       "      <td>0-25</td>\n",
       "    </tr>\n",
       "    <tr>\n",
       "      <th>3088056</th>\n",
       "      <td>2019-12-31</td>\n",
       "      <td>1.455115e+09</td>\n",
       "      <td>18555</td>\n",
       "      <td>GHSI</td>\n",
       "      <td>GUARDION HEALTH SCIENCES INC</td>\n",
       "      <td>40145Q20</td>\n",
       "      <td>NaN</td>\n",
       "      <td>NaN</td>\n",
       "      <td>0.22031</td>\n",
       "      <td>886265.0</td>\n",
       "      <td>...</td>\n",
       "      <td>0.038532</td>\n",
       "      <td>0.026200</td>\n",
       "      <td>0.040641</td>\n",
       "      <td>0.028590</td>\n",
       "      <td>0.220310</td>\n",
       "      <td>6.090685e-04</td>\n",
       "      <td>0.220310</td>\n",
       "      <td>74983.0</td>\n",
       "      <td>1.651950e+04</td>\n",
       "      <td>75-100</td>\n",
       "    </tr>\n",
       "    <tr>\n",
       "      <th>3085722</th>\n",
       "      <td>2019-12-31</td>\n",
       "      <td>1.455115e+09</td>\n",
       "      <td>15104</td>\n",
       "      <td>KCNY</td>\n",
       "      <td>KRANESHARES TRUST</td>\n",
       "      <td>50076770</td>\n",
       "      <td>0.06543</td>\n",
       "      <td>12/31/2019</td>\n",
       "      <td>32.70000</td>\n",
       "      <td>298.0</td>\n",
       "      <td>...</td>\n",
       "      <td>0.003068</td>\n",
       "      <td>0.026200</td>\n",
       "      <td>0.040641</td>\n",
       "      <td>0.028590</td>\n",
       "      <td>32.700000</td>\n",
       "      <td>2.047948e-07</td>\n",
       "      <td>32.700000</td>\n",
       "      <td>500.0</td>\n",
       "      <td>1.635000e+04</td>\n",
       "      <td>0-25</td>\n",
       "    </tr>\n",
       "    <tr>\n",
       "      <th>3087069</th>\n",
       "      <td>2019-12-31</td>\n",
       "      <td>1.455115e+09</td>\n",
       "      <td>17376</td>\n",
       "      <td>MXDE</td>\n",
       "      <td>E T F SERIES SOLUTIONS</td>\n",
       "      <td>26922A64</td>\n",
       "      <td>0.30141</td>\n",
       "      <td>12/31/2019</td>\n",
       "      <td>-23.28000</td>\n",
       "      <td>5025.0</td>\n",
       "      <td>...</td>\n",
       "      <td>0.023747</td>\n",
       "      <td>0.026200</td>\n",
       "      <td>0.040641</td>\n",
       "      <td>0.028590</td>\n",
       "      <td>-23.280000</td>\n",
       "      <td>3.453334e-06</td>\n",
       "      <td>-23.280000</td>\n",
       "      <td>700.0</td>\n",
       "      <td>1.629600e+04</td>\n",
       "      <td>0-25</td>\n",
       "    </tr>\n",
       "  </tbody>\n",
       "</table>\n",
       "<p>2742673 rows × 27 columns</p>\n",
       "</div>"
      ],
      "text/plain": [
       "              date  total trading vol  PERMNO TICKER  \\\n",
       "183     1985-01-31       5.107884e+07   12490    IBM   \n",
       "130     1985-01-31       5.107884e+07   11850    XON   \n",
       "152     1985-01-31       5.107884e+07   12060     GE   \n",
       "155     1985-01-31       5.107884e+07   12079     GM   \n",
       "29      1985-01-31       5.107884e+07   10401      T   \n",
       "...            ...                ...     ...    ...   \n",
       "3086147 2019-12-31       1.455115e+09   15881   GASX   \n",
       "3087092 2019-12-31       1.455115e+09   17412   MAGA   \n",
       "3088056 2019-12-31       1.455115e+09   18555   GHSI   \n",
       "3085722 2019-12-31       1.455115e+09   15104   KCNY   \n",
       "3087069 2019-12-31       1.455115e+09   17376   MXDE   \n",
       "\n",
       "                                   COMNAM     CUSIP   DIVAMT    SHRENDDT  \\\n",
       "183      INTERNATIONAL BUSINESS MACHS COR  45920010      NaN         NaN   \n",
       "130                            EXXON CORP  30231G10      NaN         NaN   \n",
       "152                   GENERAL ELECTRIC CO  36960410      NaN         NaN   \n",
       "155                   GENERAL MOTORS CORP  37044210      NaN         NaN   \n",
       "29          AMERICAN TELEPHONE & TELEG CO  00195750      NaN         NaN   \n",
       "...                                   ...       ...      ...         ...   \n",
       "3086147       DIREXION SHARES E T F TRUST  25490K11  0.03595  12/31/2019   \n",
       "3087092            E T F SERIES SOLUTIONS  26922A62  0.62802  12/31/2019   \n",
       "3088056      GUARDION HEALTH SCIENCES INC  40145Q20      NaN         NaN   \n",
       "3085722                 KRANESHARES TRUST  50076770  0.06543  12/31/2019   \n",
       "3087069            E T F SERIES SOLUTIONS  26922A64  0.30141  12/31/2019   \n",
       "\n",
       "               PRC       VOL  ...      RETX    vwretx    ewretx    sprtrn  \\\n",
       "183      136.37500  326625.0  ...  0.107614  0.083506  0.120225  0.074085   \n",
       "130       48.00000  223834.0  ...  0.066667  0.083506  0.120225  0.074085   \n",
       "152       63.87500  159707.0  ...  0.128035  0.083506  0.120225  0.074085   \n",
       "155       83.12500  180859.0  ...  0.060606  0.083506  0.120225  0.074085   \n",
       "29        20.37500  550618.0  ...  0.044872  0.083506  0.120225  0.074085   \n",
       "...            ...       ...  ...       ...       ...       ...       ...   \n",
       "3086147   41.42000   17113.0  ... -0.454821  0.026200  0.040641  0.028590   \n",
       "3087092   28.73000    1063.0  ...  0.007720  0.026200  0.040641  0.028590   \n",
       "3088056    0.22031  886265.0  ...  0.038532  0.026200  0.040641  0.028590   \n",
       "3085722   32.70000     298.0  ...  0.003068  0.026200  0.040641  0.028590   \n",
       "3087069  -23.28000    5025.0  ...  0.023747  0.026200  0.040641  0.028590   \n",
       "\n",
       "         adjusted prices  relative trading vol     PR_ADJ     SHR_ADJ  \\\n",
       "183            34.093750          6.394527e-03  34.093750   2450744.0   \n",
       "130             6.000000          4.382128e-03   6.000000   6264408.0   \n",
       "152             2.661458          3.126676e-03   2.661458  10917024.0   \n",
       "155            31.803488          3.540781e-03  31.803488    630902.0   \n",
       "29             14.818915          1.077977e-02  14.818915    308238.0   \n",
       "...                  ...                   ...        ...         ...   \n",
       "3086147        41.420000          1.176058e-05  41.420000       400.0   \n",
       "3087092        28.730000          7.305263e-07  28.730000       575.0   \n",
       "3088056         0.220310          6.090685e-04   0.220310     74983.0   \n",
       "3085722        32.700000          2.047948e-07  32.700000       500.0   \n",
       "3087069       -23.280000          3.453334e-06 -23.280000       700.0   \n",
       "\n",
       "               MKTCAP  percentiles  \n",
       "183      8.355505e+07       75-100  \n",
       "130      3.758645e+07       75-100  \n",
       "152      2.905520e+07       75-100  \n",
       "155      2.622186e+07       75-100  \n",
       "29       2.093450e+07       75-100  \n",
       "...               ...          ...  \n",
       "3086147  1.656800e+04        25-50  \n",
       "3087092  1.651975e+04         0-25  \n",
       "3088056  1.651950e+04       75-100  \n",
       "3085722  1.635000e+04         0-25  \n",
       "3087069  1.629600e+04         0-25  \n",
       "\n",
       "[2742673 rows x 27 columns]"
      ]
     },
     "execution_count": 12,
     "metadata": {},
     "output_type": "execute_result"
    }
   ],
   "source": [
    "clean_df"
   ]
  },
  {
   "cell_type": "code",
   "execution_count": 13,
   "metadata": {},
   "outputs": [
    {
     "data": {
      "text/plain": [
       "<matplotlib.axes._subplots.AxesSubplot at 0x2184b8e0488>"
      ]
     },
     "execution_count": 13,
     "metadata": {},
     "output_type": "execute_result"
    },
    {
     "data": {
      "image/png": "[encoded data removed]",
      "text/plain": [
       "<Figure size 432x288 with 1 Axes>"
      ]
     },
     "metadata": {
      "needs_background": "light"
     },
     "output_type": "display_data"
    }
   ],
   "source": [
    "clean_df.groupby('percentiles').mean()['RETX'].plot()"
   ]
  },
  {
   "cell_type": "code",
   "execution_count": null,
   "metadata": {
    "executionInfo": {
     "elapsed": 88651,
     "status": "ok",
     "timestamp": 1603764312589,
     "user": {
      "displayName": "Xuxian Chen",
      "photoUrl": "",
      "userId": "02993689448663336407"
     },
     "user_tz": 300
    },
    "id": "-uWUeQ7IyIox"
   },
   "outputs": [],
   "source": [
    "clean_df.to_csv('clean_df.csv')"
   ]
  },
  {
   "cell_type": "code",
   "execution_count": 14,
   "metadata": {
    "colab": {
     "base_uri": "https://localhost:8080/",
     "height": 638
    },
    "executionInfo": {
     "elapsed": 1869,
     "status": "ok",
     "timestamp": 1603770892760,
     "user": {
      "displayName": "Xuxian Chen",
      "photoUrl": "",
      "userId": "02993689448663336407"
     },
     "user_tz": 300
    },
    "id": "IC4nsl1a9PQf",
    "outputId": "4fdf0378-879e-4a0a-9a58-1135aecda2c1"
   },
   "outputs": [
    {
     "data": {
      "text/plain": [
       "<matplotlib.axes._subplots.AxesSubplot at 0x218068a1c08>"
      ]
     },
     "execution_count": 14,
     "metadata": {},
     "output_type": "execute_result"
    },
    {
     "data": {
      "image/png": "[encoded data removed]",
      "text/plain": [
       "<Figure size 1440x720 with 1 Axes>"
      ]
     },
     "metadata": {
      "needs_background": "light"
     },
     "output_type": "display_data"
    }
   ],
   "source": [
    "percentile_retx = clean_df.pivot_table(values='RETX',index='date',columns='percentiles').reset_index()\n",
    "percentile_retx['year'] = pd.DatetimeIndex(percentile_retx['date']).year\n",
    "\n",
    "def to_annual(s):\n",
    "  return (1+s)**12 - 1\n",
    "\n",
    "percentile_retx.groupby('year').mean().apply(to_annual).plot(kind='bar',figsize=(20,10))\n",
    "#chart.set_xticklabels(chart.get_xticklabels(), rotation=45)"
   ]
  },
  {
   "cell_type": "code",
   "execution_count": 22,
   "metadata": {},
   "outputs": [
    {
     "data": {
      "text/plain": [
       "[Text(0, 0, '1985'),\n",
       " Text(0, 0, '1986'),\n",
       " Text(0, 0, '1987'),\n",
       " Text(0, 0, '1988'),\n",
       " Text(0, 0, '1989'),\n",
       " Text(0, 0, '1990'),\n",
       " Text(0, 0, '1991'),\n",
       " Text(0, 0, '1992'),\n",
       " Text(0, 0, '1993'),\n",
       " Text(0, 0, '1994'),\n",
       " Text(0, 0, '1995'),\n",
       " Text(0, 0, '1996'),\n",
       " Text(0, 0, '1997'),\n",
       " Text(0, 0, '1998'),\n",
       " Text(0, 0, '1999'),\n",
       " Text(0, 0, '2000'),\n",
       " Text(0, 0, '2001'),\n",
       " Text(0, 0, '2002'),\n",
       " Text(0, 0, '2003'),\n",
       " Text(0, 0, '2004'),\n",
       " Text(0, 0, '2005'),\n",
       " Text(0, 0, '2006'),\n",
       " Text(0, 0, '2007'),\n",
       " Text(0, 0, '2008'),\n",
       " Text(0, 0, '2009'),\n",
       " Text(0, 0, '2010'),\n",
       " Text(0, 0, '2011'),\n",
       " Text(0, 0, '2012'),\n",
       " Text(0, 0, '2013'),\n",
       " Text(0, 0, '2014'),\n",
       " Text(0, 0, '2015'),\n",
       " Text(0, 0, '2016'),\n",
       " Text(0, 0, '2017'),\n",
       " Text(0, 0, '2018'),\n",
       " Text(0, 0, '2019')]"
      ]
     },
     "execution_count": 22,
     "metadata": {},
     "output_type": "execute_result"
    },
    {
     "data": {
      "image/png": "[encoded data removed]",
      "text/plain": [
       "<Figure size 1440x720 with 1 Axes>"
      ]
     },
     "metadata": {
      "needs_background": "light"
     },
     "output_type": "display_data"
    }
   ],
   "source": [
    "chart = percentile_retx.groupby('year').mean().apply(to_annual).plot(kind='bar',figsize=(20,10))\n",
    "chart.set_xticklabels(chart.get_xticklabels(), rotation=45)"
   ]
  },
  {
   "cell_type": "code",
   "execution_count": 15,
   "metadata": {
    "colab": {
     "base_uri": "https://localhost:8080/",
     "height": 623
    },
    "executionInfo": {
     "elapsed": 884,
     "status": "ok",
     "timestamp": 1603767267142,
     "user": {
      "displayName": "Xuxian Chen",
      "photoUrl": "",
      "userId": "02993689448663336407"
     },
     "user_tz": 300
    },
    "id": "UzkqMxx8-jNF",
    "outputId": "02a3bc02-e10c-44c8-ce5e-35bd24cc7c58"
   },
   "outputs": [
    {
     "data": {
      "text/plain": [
       "<matplotlib.axes._subplots.AxesSubplot at 0x21805356cc8>"
      ]
     },
     "execution_count": 15,
     "metadata": {},
     "output_type": "execute_result"
    },
    {
     "data": {
      "image/png": "[encoded data removed]",
      "text/plain": [
       "<Figure size 1440x720 with 1 Axes>"
      ]
     },
     "metadata": {
      "needs_background": "light"
     },
     "output_type": "display_data"
    }
   ],
   "source": [
    "percentile_retx.groupby('year').mean().plot(figsize=(20,10))"
   ]
  },
  {
   "cell_type": "code",
   "execution_count": 16,
   "metadata": {
    "colab": {
     "base_uri": "https://localhost:8080/",
     "height": 34
    },
    "executionInfo": {
     "elapsed": 376,
     "status": "ok",
     "timestamp": 1603769724337,
     "user": {
      "displayName": "Xuxian Chen",
      "photoUrl": "",
      "userId": "02993689448663336407"
     },
     "user_tz": 300
    },
    "id": "xR03slwsHw8U",
    "outputId": "2d733fc5-6ce6-4943-c4f4-d0681e6434d0"
   },
   "outputs": [
    {
     "data": {
      "text/plain": [
       "7.9098373564171105"
      ]
     },
     "execution_count": 16,
     "metadata": {},
     "output_type": "execute_result"
    }
   ],
   "source": [
    "((percentile_retx['75-100'] - percentile_retx['0-25']).mean() - 0 ) / (( percentile_retx['75-100'] - percentile_retx['0-25']).std()/math.sqrt(len(percentile_retx['75-100'])))"
   ]
  },
  {
   "cell_type": "code",
   "execution_count": null,
   "metadata": {
    "colab": {
     "base_uri": "https://localhost:8080/",
     "height": 52
    },
    "executionInfo": {
     "elapsed": 338,
     "status": "ok",
     "timestamp": 1603767456133,
     "user": {
      "displayName": "Xuxian Chen",
      "photoUrl": "",
      "userId": "02993689448663336407"
     },
     "user_tz": 300
    },
    "id": "Td1Z_BDDzYmU",
    "outputId": "304f9ab5-1c1c-4abe-a09c-5f63d53ca815"
   },
   "outputs": [],
   "source": [
    "'''\n",
    "fig, (ax1, ax2, ax3, ax4) = plt.subplots(1, 4, sharey=True)\n",
    "for i,j in zip(['0-25','25-50','50-75','75-100'],[ax1, ax2, ax3, ax4]):\n",
    "  tmp = clean_df[clean_df.percentiles == i]\n",
    "  j.scatter(tmp.date, tmp.RETX)\n",
    "  j.set_title(i)\n",
    "plt.figure(figsize=(20,20))\n",
    "'''"
   ]
  },
  {
   "cell_type": "code",
   "execution_count": null,
   "metadata": {
    "id": "QOLqn9iA9IQz"
   },
   "outputs": [],
   "source": []
  },
  {
   "cell_type": "code",
   "execution_count": 17,
   "metadata": {
    "executionInfo": {
     "elapsed": 905,
     "status": "ok",
     "timestamp": 1603764319504,
     "user": {
      "displayName": "Xuxian Chen",
      "photoUrl": "",
      "userId": "02993689448663336407"
     },
     "user_tz": 300
    },
    "id": "NZxfAuVZxpJO"
   },
   "outputs": [],
   "source": [
    "clean_df['year'] = pd.DatetimeIndex(clean_df['date']).year\n",
    "clean_df['month'] = pd.DatetimeIndex(clean_df['date']).month"
   ]
  },
  {
   "cell_type": "code",
   "execution_count": 18,
   "metadata": {
    "colab": {
     "base_uri": "https://localhost:8080/",
     "height": 383
    },
    "executionInfo": {
     "elapsed": 547989,
     "status": "ok",
     "timestamp": 1603765169032,
     "user": {
      "displayName": "Xuxian Chen",
      "photoUrl": "",
      "userId": "02993689448663336407"
     },
     "user_tz": 300
    },
    "id": "yQeFwH9orMZC",
    "outputId": "f796cc79-484e-426f-b829-e6756a4977c1"
   },
   "outputs": [
    {
     "data": {
      "text/html": [
       "<div>\n",
       "<style scoped>\n",
       "    .dataframe tbody tr th:only-of-type {\n",
       "        vertical-align: middle;\n",
       "    }\n",
       "\n",
       "    .dataframe tbody tr th {\n",
       "        vertical-align: top;\n",
       "    }\n",
       "\n",
       "    .dataframe thead th {\n",
       "        text-align: right;\n",
       "    }\n",
       "</style>\n",
       "<table border=\"1\" class=\"dataframe\">\n",
       "  <thead>\n",
       "    <tr style=\"text-align: right;\">\n",
       "      <th></th>\n",
       "      <th>date</th>\n",
       "      <th>total trading vol</th>\n",
       "      <th>PERMNO</th>\n",
       "      <th>TICKER</th>\n",
       "      <th>COMNAM</th>\n",
       "      <th>CUSIP</th>\n",
       "      <th>DIVAMT</th>\n",
       "      <th>SHRENDDT</th>\n",
       "      <th>PRC</th>\n",
       "      <th>VOL</th>\n",
       "      <th>...</th>\n",
       "      <th>ewretx</th>\n",
       "      <th>sprtrn</th>\n",
       "      <th>adjusted prices</th>\n",
       "      <th>relative trading vol</th>\n",
       "      <th>PR_ADJ</th>\n",
       "      <th>SHR_ADJ</th>\n",
       "      <th>MKTCAP</th>\n",
       "      <th>percentiles</th>\n",
       "      <th>year</th>\n",
       "      <th>month</th>\n",
       "    </tr>\n",
       "  </thead>\n",
       "  <tbody>\n",
       "    <tr>\n",
       "      <th>29</th>\n",
       "      <td>1985-01-31</td>\n",
       "      <td>51078840.0</td>\n",
       "      <td>10401</td>\n",
       "      <td>T</td>\n",
       "      <td>AMERICAN TELEPHONE &amp; TELEG CO</td>\n",
       "      <td>00195750</td>\n",
       "      <td>NaN</td>\n",
       "      <td>NaN</td>\n",
       "      <td>20.375</td>\n",
       "      <td>550618.0</td>\n",
       "      <td>...</td>\n",
       "      <td>0.120225</td>\n",
       "      <td>0.074085</td>\n",
       "      <td>14.818915</td>\n",
       "      <td>0.010780</td>\n",
       "      <td>14.818915</td>\n",
       "      <td>308238.0</td>\n",
       "      <td>20934497.50</td>\n",
       "      <td>75-100</td>\n",
       "      <td>1985</td>\n",
       "      <td>1</td>\n",
       "    </tr>\n",
       "    <tr>\n",
       "      <th>3268</th>\n",
       "      <td>1985-01-31</td>\n",
       "      <td>51078840.0</td>\n",
       "      <td>50404</td>\n",
       "      <td>MCIC</td>\n",
       "      <td>M C I COMMUNICATIONS CORP</td>\n",
       "      <td>55267310</td>\n",
       "      <td>NaN</td>\n",
       "      <td>NaN</td>\n",
       "      <td>9.875</td>\n",
       "      <td>440597.0</td>\n",
       "      <td>...</td>\n",
       "      <td>0.120225</td>\n",
       "      <td>0.074085</td>\n",
       "      <td>4.937500</td>\n",
       "      <td>0.008626</td>\n",
       "      <td>4.937500</td>\n",
       "      <td>469372.0</td>\n",
       "      <td>2317524.25</td>\n",
       "      <td>75-100</td>\n",
       "      <td>1985</td>\n",
       "      <td>1</td>\n",
       "    </tr>\n",
       "    <tr>\n",
       "      <th>183</th>\n",
       "      <td>1985-01-31</td>\n",
       "      <td>51078840.0</td>\n",
       "      <td>12490</td>\n",
       "      <td>IBM</td>\n",
       "      <td>INTERNATIONAL BUSINESS MACHS COR</td>\n",
       "      <td>45920010</td>\n",
       "      <td>NaN</td>\n",
       "      <td>NaN</td>\n",
       "      <td>136.375</td>\n",
       "      <td>326625.0</td>\n",
       "      <td>...</td>\n",
       "      <td>0.120225</td>\n",
       "      <td>0.074085</td>\n",
       "      <td>34.093750</td>\n",
       "      <td>0.006395</td>\n",
       "      <td>34.093750</td>\n",
       "      <td>2450744.0</td>\n",
       "      <td>83555053.25</td>\n",
       "      <td>75-100</td>\n",
       "      <td>1985</td>\n",
       "      <td>1</td>\n",
       "    </tr>\n",
       "    <tr>\n",
       "      <th>5571</th>\n",
       "      <td>1985-01-31</td>\n",
       "      <td>51078840.0</td>\n",
       "      <td>74625</td>\n",
       "      <td>TCOR</td>\n",
       "      <td>TANDON CORP</td>\n",
       "      <td>87291810</td>\n",
       "      <td>NaN</td>\n",
       "      <td>NaN</td>\n",
       "      <td>6.625</td>\n",
       "      <td>315792.0</td>\n",
       "      <td>...</td>\n",
       "      <td>0.120225</td>\n",
       "      <td>0.074085</td>\n",
       "      <td>6.625000</td>\n",
       "      <td>0.006182</td>\n",
       "      <td>6.625000</td>\n",
       "      <td>50802.0</td>\n",
       "      <td>336563.25</td>\n",
       "      <td>75-100</td>\n",
       "      <td>1985</td>\n",
       "      <td>1</td>\n",
       "    </tr>\n",
       "    <tr>\n",
       "      <th>326</th>\n",
       "      <td>1985-01-31</td>\n",
       "      <td>51078840.0</td>\n",
       "      <td>14593</td>\n",
       "      <td>AAPL</td>\n",
       "      <td>APPLE COMPUTER INC</td>\n",
       "      <td>03783310</td>\n",
       "      <td>NaN</td>\n",
       "      <td>NaN</td>\n",
       "      <td>29.000</td>\n",
       "      <td>284638.0</td>\n",
       "      <td>...</td>\n",
       "      <td>0.120225</td>\n",
       "      <td>0.074085</td>\n",
       "      <td>0.517857</td>\n",
       "      <td>0.005573</td>\n",
       "      <td>0.517857</td>\n",
       "      <td>3400544.0</td>\n",
       "      <td>1760996.00</td>\n",
       "      <td>75-100</td>\n",
       "      <td>1985</td>\n",
       "      <td>1</td>\n",
       "    </tr>\n",
       "  </tbody>\n",
       "</table>\n",
       "<p>5 rows × 29 columns</p>\n",
       "</div>"
      ],
      "text/plain": [
       "           date  total trading vol  PERMNO TICKER  \\\n",
       "29   1985-01-31         51078840.0   10401      T   \n",
       "3268 1985-01-31         51078840.0   50404   MCIC   \n",
       "183  1985-01-31         51078840.0   12490    IBM   \n",
       "5571 1985-01-31         51078840.0   74625   TCOR   \n",
       "326  1985-01-31         51078840.0   14593   AAPL   \n",
       "\n",
       "                                COMNAM     CUSIP  DIVAMT SHRENDDT      PRC  \\\n",
       "29       AMERICAN TELEPHONE & TELEG CO  00195750     NaN      NaN   20.375   \n",
       "3268         M C I COMMUNICATIONS CORP  55267310     NaN      NaN    9.875   \n",
       "183   INTERNATIONAL BUSINESS MACHS COR  45920010     NaN      NaN  136.375   \n",
       "5571                       TANDON CORP  87291810     NaN      NaN    6.625   \n",
       "326                 APPLE COMPUTER INC  03783310     NaN      NaN   29.000   \n",
       "\n",
       "           VOL  ...    ewretx    sprtrn  adjusted prices  \\\n",
       "29    550618.0  ...  0.120225  0.074085        14.818915   \n",
       "3268  440597.0  ...  0.120225  0.074085         4.937500   \n",
       "183   326625.0  ...  0.120225  0.074085        34.093750   \n",
       "5571  315792.0  ...  0.120225  0.074085         6.625000   \n",
       "326   284638.0  ...  0.120225  0.074085         0.517857   \n",
       "\n",
       "      relative trading vol     PR_ADJ    SHR_ADJ       MKTCAP  percentiles  \\\n",
       "29                0.010780  14.818915   308238.0  20934497.50       75-100   \n",
       "3268              0.008626   4.937500   469372.0   2317524.25       75-100   \n",
       "183               0.006395  34.093750  2450744.0  83555053.25       75-100   \n",
       "5571              0.006182   6.625000    50802.0    336563.25       75-100   \n",
       "326               0.005573   0.517857  3400544.0   1760996.00       75-100   \n",
       "\n",
       "      year  month  \n",
       "29    1985      1  \n",
       "3268  1985      1  \n",
       "183   1985      1  \n",
       "5571  1985      1  \n",
       "326   1985      1  \n",
       "\n",
       "[5 rows x 29 columns]"
      ]
     },
     "execution_count": 18,
     "metadata": {},
     "output_type": "execute_result"
    }
   ],
   "source": [
    "top_200 = pd.DataFrame()\n",
    "bottom_200 = pd.DataFrame()\n",
    "\n",
    "for i in range(1985,2020):\n",
    "  for j in range(1,13):\n",
    "    top_200 = pd.concat([top_200,clean_df[(clean_df.year == i)&(clean_df.month == j)].sort_values(by='relative trading vol',ascending = False)[:200]])\n",
    "    bottom_200 = pd.concat([bottom_200,clean_df[(clean_df.year == i)&(clean_df.month == j)].sort_values(by='relative trading vol',ascending = False)[:-200]])\n",
    "top_200.to_csv('top_200.csv')\n",
    "bottom_200.to_csv('bottom_200.csv')\n",
    "top_200.head()"
   ]
  },
  {
   "cell_type": "code",
   "execution_count": 19,
   "metadata": {
    "executionInfo": {
     "elapsed": 87294,
     "status": "ok",
     "timestamp": 1603765416338,
     "user": {
      "displayName": "Xuxian Chen",
      "photoUrl": "",
      "userId": "02993689448663336407"
     },
     "user_tz": 300
    },
    "id": "KxjK5_aKw8uq"
   },
   "outputs": [],
   "source": [
    "bottom_200.to_csv('bottom_200.csv')"
   ]
  },
  {
   "cell_type": "code",
   "execution_count": 20,
   "metadata": {
    "executionInfo": {
     "elapsed": 3409,
     "status": "ok",
     "timestamp": 1603765419774,
     "user": {
      "displayName": "Xuxian Chen",
      "photoUrl": "",
      "userId": "02993689448663336407"
     },
     "user_tz": 300
    },
    "id": "pvodxQeRw83T"
   },
   "outputs": [],
   "source": [
    "top_200.to_csv('top_200.csv')"
   ]
  },
  {
   "cell_type": "code",
   "execution_count": 42,
   "metadata": {
    "colab": {
     "base_uri": "https://localhost:8080/",
     "height": 847
    },
    "executionInfo": {
     "elapsed": 2392,
     "status": "ok",
     "timestamp": 1603766440610,
     "user": {
      "displayName": "Xuxian Chen",
      "photoUrl": "",
      "userId": "02993689448663336407"
     },
     "user_tz": 300
    },
    "id": "xYbXY7HKw88A",
    "outputId": "ef74babd-8314-4ebc-b867-9b8d5e424405"
   },
   "outputs": [
    {
     "data": {
      "text/plain": [
       "[Text(0, 0, '1985'),\n",
       " Text(0, 0, '1986'),\n",
       " Text(0, 0, '1987'),\n",
       " Text(0, 0, '1988'),\n",
       " Text(0, 0, '1989'),\n",
       " Text(0, 0, '1990'),\n",
       " Text(0, 0, '1991'),\n",
       " Text(0, 0, '1992'),\n",
       " Text(0, 0, '1993'),\n",
       " Text(0, 0, '1994'),\n",
       " Text(0, 0, '1995'),\n",
       " Text(0, 0, '1996'),\n",
       " Text(0, 0, '1997'),\n",
       " Text(0, 0, '1998'),\n",
       " Text(0, 0, '1999'),\n",
       " Text(0, 0, '2000'),\n",
       " Text(0, 0, '2001'),\n",
       " Text(0, 0, '2002'),\n",
       " Text(0, 0, '2003'),\n",
       " Text(0, 0, '2004'),\n",
       " Text(0, 0, '2005'),\n",
       " Text(0, 0, '2006'),\n",
       " Text(0, 0, '2007'),\n",
       " Text(0, 0, '2008'),\n",
       " Text(0, 0, '2009'),\n",
       " Text(0, 0, '2010'),\n",
       " Text(0, 0, '2011'),\n",
       " Text(0, 0, '2012'),\n",
       " Text(0, 0, '2013'),\n",
       " Text(0, 0, '2014'),\n",
       " Text(0, 0, '2015'),\n",
       " Text(0, 0, '2016'),\n",
       " Text(0, 0, '2017'),\n",
       " Text(0, 0, '2018'),\n",
       " Text(0, 0, '2019')]"
      ]
     },
     "execution_count": 42,
     "metadata": {},
     "output_type": "execute_result"
    },
    {
     "data": {
      "image/png": "[encoded data removed]",
      "text/plain": [
       "<Figure size 2160x1440 with 1 Axes>"
      ]
     },
     "metadata": {
      "needs_background": "light"
     },
     "output_type": "display_data"
    }
   ],
   "source": [
    "top_retx = top_200.rename(columns = {'RETX':'top_trade_volumn_retx'}).groupby('date').mean()['top_trade_volumn_retx']\n",
    "btn_retx = bottom_200.rename(columns ={'RETX':'btn_trade_volume_retx'}).groupby('date').mean()['btn_trade_volume_retx']\n",
    "chart_2 = pd.concat([top_retx,btn_retx],axis=1).plot(kind='bar',figsize=(30,20))\n",
    "#chart = percentile_retx.groupby('year').mean().apply(to_annual).plot(kind='bar',figsize=(20,10))\n",
    "chart_2.set_xticklabels(chart.get_xticklabels(), rotation=45)"
   ]
  },
  {
   "cell_type": "code",
   "execution_count": 58,
   "metadata": {},
   "outputs": [],
   "source": [
    "#top_200_groupby = pd.DataFrame(top_200.groupby(['date'])['RETX'].std())\n",
    "\n",
    "#top_200_groupby = top_200_groupby.reset_index()\n",
    "\n",
    "std = pd.DataFrame(top_200_groupby.groupby(top_200_groupby.index.year).std())\n",
    "std['annualized std'] = std['RETX'] * sqrt(12)\n",
    "\n",
    "\n",
    "#for i in top_200_groupby['year']:\n",
    "    #top_200_groupby['Standard Deviation'] = np.std(top_200_groupby['RETX'])\n",
    "\n",
    "# plot data\n",
    "#fig, ax = plt.subplots(figsize=(15,7))\n",
    "#data.groupby(['date','type']).count()['amount'].unstack().plot(ax=ax)  \n",
    "    "
   ]
  },
  {
   "cell_type": "code",
   "execution_count": 67,
   "metadata": {},
   "outputs": [
    {
     "data": {
      "text/plain": [
       "Text(0, 0.5, 'Standard Deviation')"
      ]
     },
     "execution_count": 67,
     "metadata": {},
     "output_type": "execute_result"
    },
    {
     "data": {
      "image/png": "[encoded data removed]",
      "text/plain": [
       "<Figure size 1440x720 with 1 Axes>"
      ]
     },
     "metadata": {
      "needs_background": "light"
     },
     "output_type": "display_data"
    }
   ],
   "source": [
    "chart_3 = std['annualized std'].plot(kind='bar', figsize=(20,10))\n",
    "chart_3.set_xticklabels(chart.get_xticklabels(), rotation=45)\n",
    "#chart_3.set_ylabel('Standard Deviation')\n",
    "chart_3.set_xlabel('Year', fontsize=18)\n",
    "chart_3.set_ylabel('Standard Deviation', fontsize=16)"
   ]
  },
  {
   "cell_type": "code",
   "execution_count": 62,
   "metadata": {},
   "outputs": [
    {
     "data": {
      "text/html": [
       "<div>\n",
       "<style scoped>\n",
       "    .dataframe tbody tr th:only-of-type {\n",
       "        vertical-align: middle;\n",
       "    }\n",
       "\n",
       "    .dataframe tbody tr th {\n",
       "        vertical-align: top;\n",
       "    }\n",
       "\n",
       "    .dataframe thead th {\n",
       "        text-align: right;\n",
       "    }\n",
       "</style>\n",
       "<table border=\"1\" class=\"dataframe\">\n",
       "  <thead>\n",
       "    <tr style=\"text-align: right;\">\n",
       "      <th></th>\n",
       "      <th>RETX</th>\n",
       "      <th>annualized std</th>\n",
       "    </tr>\n",
       "    <tr>\n",
       "      <th>date</th>\n",
       "      <th></th>\n",
       "      <th></th>\n",
       "    </tr>\n",
       "  </thead>\n",
       "  <tbody>\n",
       "    <tr>\n",
       "      <th>1985</th>\n",
       "      <td>0.035432</td>\n",
       "      <td>0.122740</td>\n",
       "    </tr>\n",
       "    <tr>\n",
       "      <th>1986</th>\n",
       "      <td>0.090738</td>\n",
       "      <td>0.314325</td>\n",
       "    </tr>\n",
       "    <tr>\n",
       "      <th>1987</th>\n",
       "      <td>0.030079</td>\n",
       "      <td>0.104197</td>\n",
       "    </tr>\n",
       "    <tr>\n",
       "      <th>1988</th>\n",
       "      <td>0.033471</td>\n",
       "      <td>0.115947</td>\n",
       "    </tr>\n",
       "    <tr>\n",
       "      <th>1989</th>\n",
       "      <td>0.044902</td>\n",
       "      <td>0.155546</td>\n",
       "    </tr>\n",
       "    <tr>\n",
       "      <th>1990</th>\n",
       "      <td>0.031860</td>\n",
       "      <td>0.110365</td>\n",
       "    </tr>\n",
       "    <tr>\n",
       "      <th>1991</th>\n",
       "      <td>0.041331</td>\n",
       "      <td>0.143174</td>\n",
       "    </tr>\n",
       "    <tr>\n",
       "      <th>1992</th>\n",
       "      <td>0.060256</td>\n",
       "      <td>0.208732</td>\n",
       "    </tr>\n",
       "    <tr>\n",
       "      <th>1993</th>\n",
       "      <td>0.071251</td>\n",
       "      <td>0.246822</td>\n",
       "    </tr>\n",
       "    <tr>\n",
       "      <th>1994</th>\n",
       "      <td>0.020732</td>\n",
       "      <td>0.071816</td>\n",
       "    </tr>\n",
       "    <tr>\n",
       "      <th>1995</th>\n",
       "      <td>0.048443</td>\n",
       "      <td>0.167811</td>\n",
       "    </tr>\n",
       "    <tr>\n",
       "      <th>1996</th>\n",
       "      <td>0.083930</td>\n",
       "      <td>0.290742</td>\n",
       "    </tr>\n",
       "    <tr>\n",
       "      <th>1997</th>\n",
       "      <td>0.124481</td>\n",
       "      <td>0.431216</td>\n",
       "    </tr>\n",
       "    <tr>\n",
       "      <th>1998</th>\n",
       "      <td>0.299868</td>\n",
       "      <td>1.038772</td>\n",
       "    </tr>\n",
       "    <tr>\n",
       "      <th>1999</th>\n",
       "      <td>0.220992</td>\n",
       "      <td>0.765539</td>\n",
       "    </tr>\n",
       "    <tr>\n",
       "      <th>2000</th>\n",
       "      <td>0.240223</td>\n",
       "      <td>0.832155</td>\n",
       "    </tr>\n",
       "    <tr>\n",
       "      <th>2001</th>\n",
       "      <td>0.074980</td>\n",
       "      <td>0.259738</td>\n",
       "    </tr>\n",
       "    <tr>\n",
       "      <th>2002</th>\n",
       "      <td>0.092416</td>\n",
       "      <td>0.320139</td>\n",
       "    </tr>\n",
       "    <tr>\n",
       "      <th>2003</th>\n",
       "      <td>0.041776</td>\n",
       "      <td>0.144717</td>\n",
       "    </tr>\n",
       "    <tr>\n",
       "      <th>2004</th>\n",
       "      <td>0.070837</td>\n",
       "      <td>0.245385</td>\n",
       "    </tr>\n",
       "    <tr>\n",
       "      <th>2005</th>\n",
       "      <td>0.026559</td>\n",
       "      <td>0.092005</td>\n",
       "    </tr>\n",
       "    <tr>\n",
       "      <th>2006</th>\n",
       "      <td>0.060251</td>\n",
       "      <td>0.208716</td>\n",
       "    </tr>\n",
       "    <tr>\n",
       "      <th>2007</th>\n",
       "      <td>0.032779</td>\n",
       "      <td>0.113549</td>\n",
       "    </tr>\n",
       "    <tr>\n",
       "      <th>2008</th>\n",
       "      <td>0.047369</td>\n",
       "      <td>0.164091</td>\n",
       "    </tr>\n",
       "    <tr>\n",
       "      <th>2009</th>\n",
       "      <td>0.112474</td>\n",
       "      <td>0.389623</td>\n",
       "    </tr>\n",
       "    <tr>\n",
       "      <th>2010</th>\n",
       "      <td>0.040024</td>\n",
       "      <td>0.138648</td>\n",
       "    </tr>\n",
       "    <tr>\n",
       "      <th>2011</th>\n",
       "      <td>0.026374</td>\n",
       "      <td>0.091363</td>\n",
       "    </tr>\n",
       "    <tr>\n",
       "      <th>2012</th>\n",
       "      <td>0.022238</td>\n",
       "      <td>0.077036</td>\n",
       "    </tr>\n",
       "    <tr>\n",
       "      <th>2013</th>\n",
       "      <td>0.043817</td>\n",
       "      <td>0.151786</td>\n",
       "    </tr>\n",
       "    <tr>\n",
       "      <th>2014</th>\n",
       "      <td>0.072503</td>\n",
       "      <td>0.251158</td>\n",
       "    </tr>\n",
       "    <tr>\n",
       "      <th>2015</th>\n",
       "      <td>0.155524</td>\n",
       "      <td>0.538751</td>\n",
       "    </tr>\n",
       "    <tr>\n",
       "      <th>2016</th>\n",
       "      <td>0.116649</td>\n",
       "      <td>0.404085</td>\n",
       "    </tr>\n",
       "    <tr>\n",
       "      <th>2017</th>\n",
       "      <td>0.132344</td>\n",
       "      <td>0.458453</td>\n",
       "    </tr>\n",
       "    <tr>\n",
       "      <th>2018</th>\n",
       "      <td>0.101918</td>\n",
       "      <td>0.353056</td>\n",
       "    </tr>\n",
       "    <tr>\n",
       "      <th>2019</th>\n",
       "      <td>0.093941</td>\n",
       "      <td>0.325422</td>\n",
       "    </tr>\n",
       "  </tbody>\n",
       "</table>\n",
       "</div>"
      ],
      "text/plain": [
       "          RETX  annualized std\n",
       "date                          \n",
       "1985  0.035432        0.122740\n",
       "1986  0.090738        0.314325\n",
       "1987  0.030079        0.104197\n",
       "1988  0.033471        0.115947\n",
       "1989  0.044902        0.155546\n",
       "1990  0.031860        0.110365\n",
       "1991  0.041331        0.143174\n",
       "1992  0.060256        0.208732\n",
       "1993  0.071251        0.246822\n",
       "1994  0.020732        0.071816\n",
       "1995  0.048443        0.167811\n",
       "1996  0.083930        0.290742\n",
       "1997  0.124481        0.431216\n",
       "1998  0.299868        1.038772\n",
       "1999  0.220992        0.765539\n",
       "2000  0.240223        0.832155\n",
       "2001  0.074980        0.259738\n",
       "2002  0.092416        0.320139\n",
       "2003  0.041776        0.144717\n",
       "2004  0.070837        0.245385\n",
       "2005  0.026559        0.092005\n",
       "2006  0.060251        0.208716\n",
       "2007  0.032779        0.113549\n",
       "2008  0.047369        0.164091\n",
       "2009  0.112474        0.389623\n",
       "2010  0.040024        0.138648\n",
       "2011  0.026374        0.091363\n",
       "2012  0.022238        0.077036\n",
       "2013  0.043817        0.151786\n",
       "2014  0.072503        0.251158\n",
       "2015  0.155524        0.538751\n",
       "2016  0.116649        0.404085\n",
       "2017  0.132344        0.458453\n",
       "2018  0.101918        0.353056\n",
       "2019  0.093941        0.325422"
      ]
     },
     "execution_count": 62,
     "metadata": {},
     "output_type": "execute_result"
    }
   ],
   "source": [
    "std"
   ]
  },
  {
   "cell_type": "code",
   "execution_count": 52,
   "metadata": {},
   "outputs": [
    {
     "data": {
      "text/html": [
       "<div>\n",
       "<style scoped>\n",
       "    .dataframe tbody tr th:only-of-type {\n",
       "        vertical-align: middle;\n",
       "    }\n",
       "\n",
       "    .dataframe tbody tr th {\n",
       "        vertical-align: top;\n",
       "    }\n",
       "\n",
       "    .dataframe thead th {\n",
       "        text-align: right;\n",
       "    }\n",
       "</style>\n",
       "<table border=\"1\" class=\"dataframe\">\n",
       "  <thead>\n",
       "    <tr style=\"text-align: right;\">\n",
       "      <th></th>\n",
       "      <th>year</th>\n",
       "      <th>month</th>\n",
       "      <th>RETX</th>\n",
       "      <th>Standard Deviation</th>\n",
       "    </tr>\n",
       "  </thead>\n",
       "  <tbody>\n",
       "    <tr>\n",
       "      <th>0</th>\n",
       "      <td>1985</td>\n",
       "      <td>1</td>\n",
       "      <td>0.195883</td>\n",
       "      <td>0.115964</td>\n",
       "    </tr>\n",
       "    <tr>\n",
       "      <th>1</th>\n",
       "      <td>1985</td>\n",
       "      <td>2</td>\n",
       "      <td>0.216483</td>\n",
       "      <td>0.115964</td>\n",
       "    </tr>\n",
       "    <tr>\n",
       "      <th>2</th>\n",
       "      <td>1985</td>\n",
       "      <td>3</td>\n",
       "      <td>0.168237</td>\n",
       "      <td>0.115964</td>\n",
       "    </tr>\n",
       "    <tr>\n",
       "      <th>3</th>\n",
       "      <td>1985</td>\n",
       "      <td>4</td>\n",
       "      <td>0.101098</td>\n",
       "      <td>0.115964</td>\n",
       "    </tr>\n",
       "    <tr>\n",
       "      <th>4</th>\n",
       "      <td>1985</td>\n",
       "      <td>5</td>\n",
       "      <td>0.121457</td>\n",
       "      <td>0.115964</td>\n",
       "    </tr>\n",
       "    <tr>\n",
       "      <th>...</th>\n",
       "      <td>...</td>\n",
       "      <td>...</td>\n",
       "      <td>...</td>\n",
       "      <td>...</td>\n",
       "    </tr>\n",
       "    <tr>\n",
       "      <th>415</th>\n",
       "      <td>2019</td>\n",
       "      <td>8</td>\n",
       "      <td>0.249549</td>\n",
       "      <td>0.115964</td>\n",
       "    </tr>\n",
       "    <tr>\n",
       "      <th>416</th>\n",
       "      <td>2019</td>\n",
       "      <td>9</td>\n",
       "      <td>0.198581</td>\n",
       "      <td>0.115964</td>\n",
       "    </tr>\n",
       "    <tr>\n",
       "      <th>417</th>\n",
       "      <td>2019</td>\n",
       "      <td>10</td>\n",
       "      <td>0.179760</td>\n",
       "      <td>0.115964</td>\n",
       "    </tr>\n",
       "    <tr>\n",
       "      <th>418</th>\n",
       "      <td>2019</td>\n",
       "      <td>11</td>\n",
       "      <td>0.347051</td>\n",
       "      <td>0.115964</td>\n",
       "    </tr>\n",
       "    <tr>\n",
       "      <th>419</th>\n",
       "      <td>2019</td>\n",
       "      <td>12</td>\n",
       "      <td>0.352014</td>\n",
       "      <td>0.115964</td>\n",
       "    </tr>\n",
       "  </tbody>\n",
       "</table>\n",
       "<p>420 rows × 4 columns</p>\n",
       "</div>"
      ],
      "text/plain": [
       "     year  month      RETX  Standard Deviation\n",
       "0    1985      1  0.195883            0.115964\n",
       "1    1985      2  0.216483            0.115964\n",
       "2    1985      3  0.168237            0.115964\n",
       "3    1985      4  0.101098            0.115964\n",
       "4    1985      5  0.121457            0.115964\n",
       "..    ...    ...       ...                 ...\n",
       "415  2019      8  0.249549            0.115964\n",
       "416  2019      9  0.198581            0.115964\n",
       "417  2019     10  0.179760            0.115964\n",
       "418  2019     11  0.347051            0.115964\n",
       "419  2019     12  0.352014            0.115964\n",
       "\n",
       "[420 rows x 4 columns]"
      ]
     },
     "execution_count": 52,
     "metadata": {},
     "output_type": "execute_result"
    }
   ],
   "source": [
    "top_200_groupby"
   ]
  },
  {
   "cell_type": "code",
   "execution_count": 23,
   "metadata": {
    "colab": {
     "base_uri": "https://localhost:8080/",
     "height": 34
    },
    "executionInfo": {
     "elapsed": 352,
     "status": "ok",
     "timestamp": 1603770668821,
     "user": {
      "displayName": "Xuxian Chen",
      "photoUrl": "",
      "userId": "02993689448663336407"
     },
     "user_tz": 300
    },
    "id": "g6BpVPhiLRTk",
    "outputId": "83736039-9350-44f6-e4c9-db1cc1c8360c"
   },
   "outputs": [
    {
     "data": {
      "text/plain": [
       "0.2771195055387079"
      ]
     },
     "execution_count": 23,
     "metadata": {},
     "output_type": "execute_result"
    }
   ],
   "source": [
    "(top_retx.mean()+1)**12-1"
   ]
  },
  {
   "cell_type": "code",
   "execution_count": 24,
   "metadata": {
    "colab": {
     "base_uri": "https://localhost:8080/",
     "height": 34
    },
    "executionInfo": {
     "elapsed": 334,
     "status": "ok",
     "timestamp": 1603771692831,
     "user": {
      "displayName": "Xuxian Chen",
      "photoUrl": "",
      "userId": "02993689448663336407"
     },
     "user_tz": 300
    },
    "id": "YhNyJNc0PcWc",
    "outputId": "a4a31438-c9e5-4199-c664-5406ea1dfbc1"
   },
   "outputs": [
    {
     "data": {
      "text/plain": [
       "0.15290185713382742"
      ]
     },
     "execution_count": 24,
     "metadata": {},
     "output_type": "execute_result"
    }
   ],
   "source": [
    "(btn_retx.mean()+1)**12-1"
   ]
  },
  {
   "cell_type": "code",
   "execution_count": 36,
   "metadata": {},
   "outputs": [
    {
     "data": {
      "text/plain": [
       "0.18013234256986288"
      ]
     },
     "execution_count": 36,
     "metadata": {},
     "output_type": "execute_result"
    }
   ],
   "source": [
    "np.std(btn_retx)*sqrt(12)"
   ]
  },
  {
   "cell_type": "code",
   "execution_count": 37,
   "metadata": {},
   "outputs": [
    {
     "data": {
      "text/plain": [
       "0.27245327714259526"
      ]
     },
     "execution_count": 37,
     "metadata": {},
     "output_type": "execute_result"
    }
   ],
   "source": [
    "np.std(top_retx)*sqrt(12)"
   ]
  },
  {
   "cell_type": "code",
   "execution_count": 41,
   "metadata": {},
   "outputs": [
    {
     "data": {
      "text/plain": [
       "0.16755401173873521"
      ]
     },
     "execution_count": 41,
     "metadata": {},
     "output_type": "execute_result"
    }
   ],
   "source": [
    "bottom_200['RETX'].std()"
   ]
  },
  {
   "cell_type": "code",
   "execution_count": 73,
   "metadata": {
    "colab": {
     "base_uri": "https://localhost:8080/",
     "height": 705
    },
    "executionInfo": {
     "elapsed": 862,
     "status": "ok",
     "timestamp": 1603766696752,
     "user": {
      "displayName": "Xuxian Chen",
      "photoUrl": "",
      "userId": "02993689448663336407"
     },
     "user_tz": 300
    },
    "id": "UYtdupsEw81Q",
    "outputId": "ab9efa7b-3d23-468a-90e3-f082a66d5935"
   },
   "outputs": [
    {
     "name": "stderr",
     "output_type": "stream",
     "text": [
      "C:\\Users\\Admin\\Downloads\\anaconda3\\lib\\site-packages\\ipykernel_launcher.py:3: FutureWarning: Indexing with multiple keys (implicitly converted to a tuple of keys) will be deprecated, use a list instead.\n",
      "  This is separate from the ipykernel package so we can avoid doing imports until\n"
     ]
    },
    {
     "data": {
      "text/plain": [
       "Text(0, 0.5, 'Returns')"
      ]
     },
     "execution_count": 73,
     "metadata": {},
     "output_type": "execute_result"
    },
    {
     "data": {
      "image/png": "[encoded data removed]",
      "text/plain": [
       "<Figure size 1440x720 with 1 Axes>"
      ]
     },
     "metadata": {
      "needs_background": "light"
     },
     "output_type": "display_data"
    }
   ],
   "source": [
    "diff = pd.concat([top_retx,btn_retx],axis=1).reset_index()\n",
    "diff['year'] = pd.DatetimeIndex(diff['date']).year\n",
    "chart_2 = diff.groupby('year')['top_trade_volumn_retx','btn_trade_volume_retx'].mean().plot(kind='bar',figsize=(20,10))\n",
    "chart_2.set_xticklabels(chart.get_xticklabels(), rotation=45)\n",
    "chart_2.set_xlabel('Year', fontsize=18)\n",
    "chart_2.set_ylabel('Returns', fontsize=18)"
   ]
  },
  {
   "cell_type": "code",
   "execution_count": null,
   "metadata": {
    "colab": {
     "base_uri": "https://localhost:8080/",
     "height": 34
    },
    "executionInfo": {
     "elapsed": 370,
     "status": "ok",
     "timestamp": 1603769221015,
     "user": {
      "displayName": "Xuxian Chen",
      "photoUrl": "",
      "userId": "02993689448663336407"
     },
     "user_tz": 300
    },
    "id": "37GrdAAZEjZb",
    "outputId": "b0050412-3395-46cd-a1b8-b5e077c26c37"
   },
   "outputs": [],
   "source": [
    "((diff['top_trade_volumn_retx'] - diff['btn_trade_volume_retx']).mean() - 0 ) / (( diff['top_trade_volumn_retx'] - diff['btn_trade_volume_retx']).std()/math.sqrt(len(diff['top_trade_volumn_retx'])))"
   ]
  },
  {
   "cell_type": "code",
   "execution_count": null,
   "metadata": {
    "id": "EnOQvv7uEjUJ"
   },
   "outputs": [],
   "source": [
    "for i in range(1985,2020):\n",
    "  for j in range(1,13):\n",
    "    top_200 = pd.concat([top_200,clean_df[(top_200.year == i)&(clean_df.month == j)].sort_values(by='relative trading vol',ascending = False)[:200]])\n",
    "    bottom_200 = pd.concat([bottom_200,clean_df[(clean_df.year == i)&(clean_df.month == j)].sort_values(by='relative trading vol',ascending = False)[:-200]])"
   ]
  },
  {
   "cell_type": "code",
   "execution_count": 77,
   "metadata": {
    "id": "I56sPN_SEjFC"
   },
   "outputs": [
    {
     "ename": "TypeError",
     "evalue": "unsupported operand type(s) for +: 'Timestamp' and 'float'",
     "output_type": "error",
     "traceback": [
      "\u001b[1;31m---------------------------------------------------------------------------\u001b[0m",
      "\u001b[1;31mTypeError\u001b[0m                                 Traceback (most recent call last)",
      "\u001b[1;32m<ipython-input-77-dbebb1bee4d6>\u001b[0m in \u001b[0;36m<module>\u001b[1;34m\u001b[0m\n\u001b[0;32m      4\u001b[0m \u001b[1;33m\u001b[0m\u001b[0m\n\u001b[0;32m      5\u001b[0m \u001b[1;33m\u001b[0m\u001b[0m\n\u001b[1;32m----> 6\u001b[1;33m \u001b[0maxs\u001b[0m\u001b[1;33m[\u001b[0m\u001b[1;36m1\u001b[0m\u001b[1;33m]\u001b[0m\u001b[1;33m.\u001b[0m\u001b[0mboxplot\u001b[0m\u001b[1;33m(\u001b[0m\u001b[0mtop_200\u001b[0m\u001b[1;33m)\u001b[0m\u001b[1;33m\u001b[0m\u001b[1;33m\u001b[0m\u001b[0m\n\u001b[0m\u001b[0;32m      7\u001b[0m \u001b[0maxs\u001b[0m\u001b[1;33m[\u001b[0m\u001b[1;36m1\u001b[0m\u001b[1;33m]\u001b[0m\u001b[1;33m.\u001b[0m\u001b[0mset_title\u001b[0m\u001b[1;33m(\u001b[0m\u001b[1;34m'Box plot of returns'\u001b[0m\u001b[1;33m)\u001b[0m\u001b[1;33m\u001b[0m\u001b[1;33m\u001b[0m\u001b[0m\n\u001b[0;32m      8\u001b[0m \u001b[1;33m\u001b[0m\u001b[0m\n",
      "\u001b[1;32m~\\Downloads\\anaconda3\\lib\\site-packages\\matplotlib\\cbook\\deprecation.py\u001b[0m in \u001b[0;36mwrapper\u001b[1;34m(*args, **kwargs)\u001b[0m\n\u001b[0;32m    305\u001b[0m                 f\"for the old name will be dropped %(removal)s.\")\n\u001b[0;32m    306\u001b[0m             \u001b[0mkwargs\u001b[0m\u001b[1;33m[\u001b[0m\u001b[0mnew\u001b[0m\u001b[1;33m]\u001b[0m \u001b[1;33m=\u001b[0m \u001b[0mkwargs\u001b[0m\u001b[1;33m.\u001b[0m\u001b[0mpop\u001b[0m\u001b[1;33m(\u001b[0m\u001b[0mold\u001b[0m\u001b[1;33m)\u001b[0m\u001b[1;33m\u001b[0m\u001b[1;33m\u001b[0m\u001b[0m\n\u001b[1;32m--> 307\u001b[1;33m         \u001b[1;32mreturn\u001b[0m \u001b[0mfunc\u001b[0m\u001b[1;33m(\u001b[0m\u001b[1;33m*\u001b[0m\u001b[0margs\u001b[0m\u001b[1;33m,\u001b[0m \u001b[1;33m**\u001b[0m\u001b[0mkwargs\u001b[0m\u001b[1;33m)\u001b[0m\u001b[1;33m\u001b[0m\u001b[1;33m\u001b[0m\u001b[0m\n\u001b[0m\u001b[0;32m    308\u001b[0m \u001b[1;33m\u001b[0m\u001b[0m\n\u001b[0;32m    309\u001b[0m     \u001b[1;31m# wrapper() must keep the same documented signature as func(): if we\u001b[0m\u001b[1;33m\u001b[0m\u001b[1;33m\u001b[0m\u001b[1;33m\u001b[0m\u001b[0m\n",
      "\u001b[1;32m~\\Downloads\\anaconda3\\lib\\site-packages\\matplotlib\\__init__.py\u001b[0m in \u001b[0;36minner\u001b[1;34m(ax, data, *args, **kwargs)\u001b[0m\n\u001b[0;32m   1597\u001b[0m     \u001b[1;32mdef\u001b[0m \u001b[0minner\u001b[0m\u001b[1;33m(\u001b[0m\u001b[0max\u001b[0m\u001b[1;33m,\u001b[0m \u001b[1;33m*\u001b[0m\u001b[0margs\u001b[0m\u001b[1;33m,\u001b[0m \u001b[0mdata\u001b[0m\u001b[1;33m=\u001b[0m\u001b[1;32mNone\u001b[0m\u001b[1;33m,\u001b[0m \u001b[1;33m**\u001b[0m\u001b[0mkwargs\u001b[0m\u001b[1;33m)\u001b[0m\u001b[1;33m:\u001b[0m\u001b[1;33m\u001b[0m\u001b[1;33m\u001b[0m\u001b[0m\n\u001b[0;32m   1598\u001b[0m         \u001b[1;32mif\u001b[0m \u001b[0mdata\u001b[0m \u001b[1;32mis\u001b[0m \u001b[1;32mNone\u001b[0m\u001b[1;33m:\u001b[0m\u001b[1;33m\u001b[0m\u001b[1;33m\u001b[0m\u001b[0m\n\u001b[1;32m-> 1599\u001b[1;33m             \u001b[1;32mreturn\u001b[0m \u001b[0mfunc\u001b[0m\u001b[1;33m(\u001b[0m\u001b[0max\u001b[0m\u001b[1;33m,\u001b[0m \u001b[1;33m*\u001b[0m\u001b[0mmap\u001b[0m\u001b[1;33m(\u001b[0m\u001b[0msanitize_sequence\u001b[0m\u001b[1;33m,\u001b[0m \u001b[0margs\u001b[0m\u001b[1;33m)\u001b[0m\u001b[1;33m,\u001b[0m \u001b[1;33m**\u001b[0m\u001b[0mkwargs\u001b[0m\u001b[1;33m)\u001b[0m\u001b[1;33m\u001b[0m\u001b[1;33m\u001b[0m\u001b[0m\n\u001b[0m\u001b[0;32m   1600\u001b[0m \u001b[1;33m\u001b[0m\u001b[0m\n\u001b[0;32m   1601\u001b[0m         \u001b[0mbound\u001b[0m \u001b[1;33m=\u001b[0m \u001b[0mnew_sig\u001b[0m\u001b[1;33m.\u001b[0m\u001b[0mbind\u001b[0m\u001b[1;33m(\u001b[0m\u001b[0max\u001b[0m\u001b[1;33m,\u001b[0m \u001b[1;33m*\u001b[0m\u001b[0margs\u001b[0m\u001b[1;33m,\u001b[0m \u001b[1;33m**\u001b[0m\u001b[0mkwargs\u001b[0m\u001b[1;33m)\u001b[0m\u001b[1;33m\u001b[0m\u001b[1;33m\u001b[0m\u001b[0m\n",
      "\u001b[1;32m~\\Downloads\\anaconda3\\lib\\site-packages\\matplotlib\\axes\\_axes.py\u001b[0m in \u001b[0;36mboxplot\u001b[1;34m(self, x, notch, sym, vert, whis, positions, widths, patch_artist, bootstrap, usermedians, conf_intervals, meanline, showmeans, showcaps, showbox, showfliers, boxprops, labels, flierprops, medianprops, meanprops, capprops, whiskerprops, manage_ticks, autorange, zorder)\u001b[0m\n\u001b[0;32m   3667\u001b[0m \u001b[1;33m\u001b[0m\u001b[0m\n\u001b[0;32m   3668\u001b[0m         bxpstats = cbook.boxplot_stats(x, whis=whis, bootstrap=bootstrap,\n\u001b[1;32m-> 3669\u001b[1;33m                                        labels=labels, autorange=autorange)\n\u001b[0m\u001b[0;32m   3670\u001b[0m         \u001b[1;32mif\u001b[0m \u001b[0mnotch\u001b[0m \u001b[1;32mis\u001b[0m \u001b[1;32mNone\u001b[0m\u001b[1;33m:\u001b[0m\u001b[1;33m\u001b[0m\u001b[1;33m\u001b[0m\u001b[0m\n\u001b[0;32m   3671\u001b[0m             \u001b[0mnotch\u001b[0m \u001b[1;33m=\u001b[0m \u001b[0mrcParams\u001b[0m\u001b[1;33m[\u001b[0m\u001b[1;34m'boxplot.notch'\u001b[0m\u001b[1;33m]\u001b[0m\u001b[1;33m\u001b[0m\u001b[1;33m\u001b[0m\u001b[0m\n",
      "\u001b[1;32m~\\Downloads\\anaconda3\\lib\\site-packages\\matplotlib\\cbook\\__init__.py\u001b[0m in \u001b[0;36mboxplot_stats\u001b[1;34m(X, whis, bootstrap, labels, autorange)\u001b[0m\n\u001b[0;32m   1283\u001b[0m \u001b[1;33m\u001b[0m\u001b[0m\n\u001b[0;32m   1284\u001b[0m         \u001b[1;31m# arithmetic mean\u001b[0m\u001b[1;33m\u001b[0m\u001b[1;33m\u001b[0m\u001b[1;33m\u001b[0m\u001b[0m\n\u001b[1;32m-> 1285\u001b[1;33m         \u001b[0mstats\u001b[0m\u001b[1;33m[\u001b[0m\u001b[1;34m'mean'\u001b[0m\u001b[1;33m]\u001b[0m \u001b[1;33m=\u001b[0m \u001b[0mnp\u001b[0m\u001b[1;33m.\u001b[0m\u001b[0mmean\u001b[0m\u001b[1;33m(\u001b[0m\u001b[0mx\u001b[0m\u001b[1;33m)\u001b[0m\u001b[1;33m\u001b[0m\u001b[1;33m\u001b[0m\u001b[0m\n\u001b[0m\u001b[0;32m   1286\u001b[0m \u001b[1;33m\u001b[0m\u001b[0m\n\u001b[0;32m   1287\u001b[0m         \u001b[1;31m# medians and quartiles\u001b[0m\u001b[1;33m\u001b[0m\u001b[1;33m\u001b[0m\u001b[1;33m\u001b[0m\u001b[0m\n",
      "\u001b[1;32m<__array_function__ internals>\u001b[0m in \u001b[0;36mmean\u001b[1;34m(*args, **kwargs)\u001b[0m\n",
      "\u001b[1;32m~\\Downloads\\anaconda3\\lib\\site-packages\\numpy\\core\\fromnumeric.py\u001b[0m in \u001b[0;36mmean\u001b[1;34m(a, axis, dtype, out, keepdims)\u001b[0m\n\u001b[0;32m   3333\u001b[0m \u001b[1;33m\u001b[0m\u001b[0m\n\u001b[0;32m   3334\u001b[0m     return _methods._mean(a, axis=axis, dtype=dtype,\n\u001b[1;32m-> 3335\u001b[1;33m                           out=out, **kwargs)\n\u001b[0m\u001b[0;32m   3336\u001b[0m \u001b[1;33m\u001b[0m\u001b[0m\n\u001b[0;32m   3337\u001b[0m \u001b[1;33m\u001b[0m\u001b[0m\n",
      "\u001b[1;32m~\\Downloads\\anaconda3\\lib\\site-packages\\numpy\\core\\_methods.py\u001b[0m in \u001b[0;36m_mean\u001b[1;34m(a, axis, dtype, out, keepdims)\u001b[0m\n\u001b[0;32m    149\u001b[0m             \u001b[0mis_float16_result\u001b[0m \u001b[1;33m=\u001b[0m \u001b[1;32mTrue\u001b[0m\u001b[1;33m\u001b[0m\u001b[1;33m\u001b[0m\u001b[0m\n\u001b[0;32m    150\u001b[0m \u001b[1;33m\u001b[0m\u001b[0m\n\u001b[1;32m--> 151\u001b[1;33m     \u001b[0mret\u001b[0m \u001b[1;33m=\u001b[0m \u001b[0mumr_sum\u001b[0m\u001b[1;33m(\u001b[0m\u001b[0marr\u001b[0m\u001b[1;33m,\u001b[0m \u001b[0maxis\u001b[0m\u001b[1;33m,\u001b[0m \u001b[0mdtype\u001b[0m\u001b[1;33m,\u001b[0m \u001b[0mout\u001b[0m\u001b[1;33m,\u001b[0m \u001b[0mkeepdims\u001b[0m\u001b[1;33m)\u001b[0m\u001b[1;33m\u001b[0m\u001b[1;33m\u001b[0m\u001b[0m\n\u001b[0m\u001b[0;32m    152\u001b[0m     \u001b[1;32mif\u001b[0m \u001b[0misinstance\u001b[0m\u001b[1;33m(\u001b[0m\u001b[0mret\u001b[0m\u001b[1;33m,\u001b[0m \u001b[0mmu\u001b[0m\u001b[1;33m.\u001b[0m\u001b[0mndarray\u001b[0m\u001b[1;33m)\u001b[0m\u001b[1;33m:\u001b[0m\u001b[1;33m\u001b[0m\u001b[1;33m\u001b[0m\u001b[0m\n\u001b[0;32m    153\u001b[0m         ret = um.true_divide(\n",
      "\u001b[1;31mTypeError\u001b[0m: unsupported operand type(s) for +: 'Timestamp' and 'float'"
     ]
    },
    {
     "data": {
      "image/png": "[encoded data removed]",
      "text/plain": [
       "<Figure size 648x288 with 2 Axes>"
      ]
     },
     "metadata": {
      "needs_background": "light"
     },
     "output_type": "display_data"
    }
   ],
   "source": [
    "import matplotlib.pyplot as plt\n",
    "import numpy as np\n",
    "fig, axs = plt.subplots(nrows=1, ncols=2, figsize=(9, 4))\n",
    "\n",
    "\n",
    "axs[1].boxplot(top_200)\n",
    "axs[1].set_title('Box plot of returns')\n",
    "\n",
    "# adding horizontal grid lines\n",
    "for ax in axs:\n",
    "    ax.yaxis.grid(True)\n",
    "    ax.set_xticks([y + 1 for y in range(len(top_200))])\n",
    "    ax.set_xlabel('Four separate samples')\n",
    "    ax.set_ylabel('Observed values')\n",
    "\n",
    "# add x-tick labels\n",
    "#plt.setp(axs, xticks=[y + 1 for y in range(len(top_200))],\n",
    "         #xticklabels=['x1', 'x2', 'x3', 'x4'])\n",
    "plt.show()"
   ]
  },
  {
   "cell_type": "code",
   "execution_count": 88,
   "metadata": {},
   "outputs": [],
   "source": [
    "top_200_boxplot = top_200[['RETX', 'year']]\n",
    "\n",
    "top_200_boxplot = top_200_boxplot.reset_index()\n",
    "top_200_boxplot = top_200_boxplot.set_index('year')"
   ]
  },
  {
   "cell_type": "code",
   "execution_count": 92,
   "metadata": {},
   "outputs": [],
   "source": [
    "top_200_boxplot = top_200_boxplot.drop(['index'], axis=1)"
   ]
  },
  {
   "cell_type": "code",
   "execution_count": 108,
   "metadata": {},
   "outputs": [
    {
     "data": {
      "text/plain": [
       "<matplotlib.axes._subplots.AxesSubplot at 0x2189f417888>"
      ]
     },
     "execution_count": 108,
     "metadata": {},
     "output_type": "execute_result"
    },
    {
     "data": {
      "image/png": "[encoded data removed]",
      "text/plain": [
       "<Figure size 432x288 with 1 Axes>"
      ]
     },
     "metadata": {
      "needs_background": "light"
     },
     "output_type": "display_data"
    }
   ],
   "source": [
    "#top_200_boxplot_t = top_200_boxplot.transpose()\n",
    "#top_200_boxplot_t.groupby(level=0).sum()\n",
    "top_200_boxplot.groupby(level=0, axis=0).sum().transpose().boxplot()"
   ]
  },
  {
   "cell_type": "code",
   "execution_count": 93,
   "metadata": {},
   "outputs": [
    {
     "data": {
      "image/png": "[encoded data removed]",
      "text/plain": [
       "<Figure size 432x288 with 1 Axes>"
      ]
     },
     "metadata": {
      "needs_background": "light"
     },
     "output_type": "display_data"
    }
   ],
   "source": [
    "#top_200_boxplot = top_200['RETX', 'year']\n",
    "\n",
    "top_200_boxplot.boxplot()\n",
    "#Show the boxplots. This is just for 3 columns out of 50\n",
    "plt.show()"
   ]
  },
  {
   "cell_type": "code",
   "execution_count": null,
   "metadata": {
    "colab": {
     "base_uri": "https://localhost:8080/",
     "height": 674
    },
    "executionInfo": {
     "elapsed": 397,
     "status": "ok",
     "timestamp": 1603768558361,
     "user": {
      "displayName": "Xuxian Chen",
      "photoUrl": "",
      "userId": "02993689448663336407"
     },
     "user_tz": 300
    },
    "id": "f0oTcUrzw8yr",
    "outputId": "84e6d17e-b3be-4d14-feb1-d2dbd23775d8"
   },
   "outputs": [],
   "source": [
    "tmp = []\n",
    "for i in unique(top_200.date):\n",
    "  i\n"
   ]
  },
  {
   "cell_type": "code",
   "execution_count": null,
   "metadata": {
    "id": "-HtyFZlS_dli"
   },
   "outputs": [],
   "source": [
    "chart_2 = diff.groupby('year')['top_trade_volumn_retx','btn_trade_volume_retx'].mean().plot(kind='bar',figsize=(20,10))\n",
    "chart_2.set_xticklabels(chart.get_xticklabels(), rotation=45)\n",
    "chart_2.set_xlabel('Year', fontsize=18)\n",
    "chart_2.set_ylabel('Returns', fontsize=18)"
   ]
  },
  {
   "cell_type": "code",
   "execution_count": null,
   "metadata": {
    "id": "iY8Nnmbp_de8"
   },
   "outputs": [],
   "source": []
  },
  {
   "cell_type": "code",
   "execution_count": null,
   "metadata": {
    "id": "_Fe0Hw3H_dYu"
   },
   "outputs": [],
   "source": []
  }
 ],
 "metadata": {
  "colab": {
   "collapsed_sections": [],
   "name": "after_vito.ipynb",
   "provenance": []
  },
  "kernelspec": {
   "display_name": "Python 3",
   "language": "python",
   "name": "python3"
  },
  "language_info": {
   "codemirror_mode": {
    "name": "ipython",
    "version": 3
   },
   "file_extension": ".py",
   "mimetype": "text/x-python",
   "name": "python",
   "nbconvert_exporter": "python",
   "pygments_lexer": "ipython3",
   "version": "3.8.3"
  }
 },
 "nbformat": 4,
 "nbformat_minor": 4
}
